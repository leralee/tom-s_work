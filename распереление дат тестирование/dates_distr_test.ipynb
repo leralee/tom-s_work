{
 "cells": [
  {
   "cell_type": "code",
   "execution_count": 1,
   "id": "dc359fe1",
   "metadata": {},
   "outputs": [],
   "source": [
    "import pandas as pd"
   ]
  },
  {
   "cell_type": "code",
   "execution_count": 213,
   "id": "9f62166e",
   "metadata": {},
   "outputs": [],
   "source": [
    "orders = pd.DataFrame({'area':['a','a','a','a'], 'code': [17, 17,17,17], 'requires':[0,1,100,2]})\n",
    "graphic = pd.DataFrame({'area': ['a'], 'code': [17], \n",
    "                        'date':['2022-06-11'], \n",
    "                        'volume':[5]})"
   ]
  },
  {
   "cell_type": "code",
   "execution_count": 193,
   "id": "85f93d02",
   "metadata": {},
   "outputs": [],
   "source": [
    "orders = pd.read_excel('orders-test.xlsx')\n",
    "graphic = pd.read_excel('graphic-test.xlsx')"
   ]
  },
  {
   "cell_type": "code",
   "execution_count": 212,
   "id": "0e87d650",
   "metadata": {},
   "outputs": [],
   "source": [
    "graphic['date'] = pd.to_datetime(graphic['date'])"
   ]
  },
  {
   "cell_type": "code",
   "execution_count": 198,
   "id": "307c8ff4",
   "metadata": {},
   "outputs": [
    {
     "data": {
      "text/html": [
       "<div>\n",
       "<style scoped>\n",
       "    .dataframe tbody tr th:only-of-type {\n",
       "        vertical-align: middle;\n",
       "    }\n",
       "\n",
       "    .dataframe tbody tr th {\n",
       "        vertical-align: top;\n",
       "    }\n",
       "\n",
       "    .dataframe thead th {\n",
       "        text-align: right;\n",
       "    }\n",
       "</style>\n",
       "<table border=\"1\" class=\"dataframe\">\n",
       "  <thead>\n",
       "    <tr style=\"text-align: right;\">\n",
       "      <th></th>\n",
       "      <th>area</th>\n",
       "      <th>code</th>\n",
       "      <th>requires</th>\n",
       "    </tr>\n",
       "  </thead>\n",
       "  <tbody>\n",
       "    <tr>\n",
       "      <th>0</th>\n",
       "      <td>a</td>\n",
       "      <td>17</td>\n",
       "      <td>0</td>\n",
       "    </tr>\n",
       "    <tr>\n",
       "      <th>1</th>\n",
       "      <td>a</td>\n",
       "      <td>17</td>\n",
       "      <td>1</td>\n",
       "    </tr>\n",
       "    <tr>\n",
       "      <th>2</th>\n",
       "      <td>a</td>\n",
       "      <td>17</td>\n",
       "      <td>100</td>\n",
       "    </tr>\n",
       "    <tr>\n",
       "      <th>3</th>\n",
       "      <td>a</td>\n",
       "      <td>17</td>\n",
       "      <td>2</td>\n",
       "    </tr>\n",
       "  </tbody>\n",
       "</table>\n",
       "</div>"
      ],
      "text/plain": [
       "  area  code  requires\n",
       "0    a    17         0\n",
       "1    a    17         1\n",
       "2    a    17       100\n",
       "3    a    17         2"
      ]
     },
     "execution_count": 198,
     "metadata": {},
     "output_type": "execute_result"
    }
   ],
   "source": [
    "orders"
   ]
  },
  {
   "cell_type": "code",
   "execution_count": 199,
   "id": "092cfbd6",
   "metadata": {},
   "outputs": [
    {
     "data": {
      "text/html": [
       "<div>\n",
       "<style scoped>\n",
       "    .dataframe tbody tr th:only-of-type {\n",
       "        vertical-align: middle;\n",
       "    }\n",
       "\n",
       "    .dataframe tbody tr th {\n",
       "        vertical-align: top;\n",
       "    }\n",
       "\n",
       "    .dataframe thead th {\n",
       "        text-align: right;\n",
       "    }\n",
       "</style>\n",
       "<table border=\"1\" class=\"dataframe\">\n",
       "  <thead>\n",
       "    <tr style=\"text-align: right;\">\n",
       "      <th></th>\n",
       "      <th>area</th>\n",
       "      <th>code</th>\n",
       "      <th>date</th>\n",
       "      <th>volume</th>\n",
       "    </tr>\n",
       "  </thead>\n",
       "  <tbody>\n",
       "    <tr>\n",
       "      <th>0</th>\n",
       "      <td>a</td>\n",
       "      <td>17</td>\n",
       "      <td>2022-06-11</td>\n",
       "      <td>5</td>\n",
       "    </tr>\n",
       "  </tbody>\n",
       "</table>\n",
       "</div>"
      ],
      "text/plain": [
       "  area  code       date  volume\n",
       "0    a    17 2022-06-11       5"
      ]
     },
     "execution_count": 199,
     "metadata": {},
     "output_type": "execute_result"
    }
   ],
   "source": [
    "graphic"
   ]
  },
  {
   "cell_type": "code",
   "execution_count": 200,
   "id": "f25b9f61",
   "metadata": {},
   "outputs": [],
   "source": [
    "graphic = graphic.merge(orders, on=[\"area\", \"code\"])"
   ]
  },
  {
   "cell_type": "code",
   "execution_count": 201,
   "id": "6919cb9d",
   "metadata": {},
   "outputs": [
    {
     "data": {
      "text/html": [
       "<div>\n",
       "<style scoped>\n",
       "    .dataframe tbody tr th:only-of-type {\n",
       "        vertical-align: middle;\n",
       "    }\n",
       "\n",
       "    .dataframe tbody tr th {\n",
       "        vertical-align: top;\n",
       "    }\n",
       "\n",
       "    .dataframe thead th {\n",
       "        text-align: right;\n",
       "    }\n",
       "</style>\n",
       "<table border=\"1\" class=\"dataframe\">\n",
       "  <thead>\n",
       "    <tr style=\"text-align: right;\">\n",
       "      <th></th>\n",
       "      <th>area</th>\n",
       "      <th>code</th>\n",
       "      <th>date</th>\n",
       "      <th>volume</th>\n",
       "      <th>requires</th>\n",
       "    </tr>\n",
       "  </thead>\n",
       "  <tbody>\n",
       "    <tr>\n",
       "      <th>0</th>\n",
       "      <td>a</td>\n",
       "      <td>17</td>\n",
       "      <td>2022-06-11</td>\n",
       "      <td>5</td>\n",
       "      <td>0</td>\n",
       "    </tr>\n",
       "    <tr>\n",
       "      <th>1</th>\n",
       "      <td>a</td>\n",
       "      <td>17</td>\n",
       "      <td>2022-06-11</td>\n",
       "      <td>5</td>\n",
       "      <td>1</td>\n",
       "    </tr>\n",
       "    <tr>\n",
       "      <th>2</th>\n",
       "      <td>a</td>\n",
       "      <td>17</td>\n",
       "      <td>2022-06-11</td>\n",
       "      <td>5</td>\n",
       "      <td>100</td>\n",
       "    </tr>\n",
       "    <tr>\n",
       "      <th>3</th>\n",
       "      <td>a</td>\n",
       "      <td>17</td>\n",
       "      <td>2022-06-11</td>\n",
       "      <td>5</td>\n",
       "      <td>2</td>\n",
       "    </tr>\n",
       "  </tbody>\n",
       "</table>\n",
       "</div>"
      ],
      "text/plain": [
       "  area  code       date  volume  requires\n",
       "0    a    17 2022-06-11       5         0\n",
       "1    a    17 2022-06-11       5         1\n",
       "2    a    17 2022-06-11       5       100\n",
       "3    a    17 2022-06-11       5         2"
      ]
     },
     "execution_count": 201,
     "metadata": {},
     "output_type": "execute_result"
    }
   ],
   "source": [
    "graphic"
   ]
  },
  {
   "cell_type": "code",
   "execution_count": 202,
   "id": "ea0f9e04",
   "metadata": {},
   "outputs": [],
   "source": [
    "graphic[\"volume_cumsum\"] = graphic.groupby([\"area\", \"code\"])[\"volume\"].cumsum()"
   ]
  },
  {
   "cell_type": "code",
   "execution_count": 203,
   "id": "338e8d9d",
   "metadata": {
    "scrolled": true
   },
   "outputs": [
    {
     "data": {
      "text/html": [
       "<div>\n",
       "<style scoped>\n",
       "    .dataframe tbody tr th:only-of-type {\n",
       "        vertical-align: middle;\n",
       "    }\n",
       "\n",
       "    .dataframe tbody tr th {\n",
       "        vertical-align: top;\n",
       "    }\n",
       "\n",
       "    .dataframe thead th {\n",
       "        text-align: right;\n",
       "    }\n",
       "</style>\n",
       "<table border=\"1\" class=\"dataframe\">\n",
       "  <thead>\n",
       "    <tr style=\"text-align: right;\">\n",
       "      <th></th>\n",
       "      <th>area</th>\n",
       "      <th>code</th>\n",
       "      <th>date</th>\n",
       "      <th>volume</th>\n",
       "      <th>requires</th>\n",
       "      <th>volume_cumsum</th>\n",
       "    </tr>\n",
       "  </thead>\n",
       "  <tbody>\n",
       "    <tr>\n",
       "      <th>0</th>\n",
       "      <td>a</td>\n",
       "      <td>17</td>\n",
       "      <td>2022-06-11</td>\n",
       "      <td>5</td>\n",
       "      <td>0</td>\n",
       "      <td>5</td>\n",
       "    </tr>\n",
       "    <tr>\n",
       "      <th>1</th>\n",
       "      <td>a</td>\n",
       "      <td>17</td>\n",
       "      <td>2022-06-11</td>\n",
       "      <td>5</td>\n",
       "      <td>1</td>\n",
       "      <td>10</td>\n",
       "    </tr>\n",
       "    <tr>\n",
       "      <th>2</th>\n",
       "      <td>a</td>\n",
       "      <td>17</td>\n",
       "      <td>2022-06-11</td>\n",
       "      <td>5</td>\n",
       "      <td>100</td>\n",
       "      <td>15</td>\n",
       "    </tr>\n",
       "    <tr>\n",
       "      <th>3</th>\n",
       "      <td>a</td>\n",
       "      <td>17</td>\n",
       "      <td>2022-06-11</td>\n",
       "      <td>5</td>\n",
       "      <td>2</td>\n",
       "      <td>20</td>\n",
       "    </tr>\n",
       "  </tbody>\n",
       "</table>\n",
       "</div>"
      ],
      "text/plain": [
       "  area  code       date  volume  requires  volume_cumsum\n",
       "0    a    17 2022-06-11       5         0              5\n",
       "1    a    17 2022-06-11       5         1             10\n",
       "2    a    17 2022-06-11       5       100             15\n",
       "3    a    17 2022-06-11       5         2             20"
      ]
     },
     "execution_count": 203,
     "metadata": {},
     "output_type": "execute_result"
    }
   ],
   "source": [
    "graphic"
   ]
  },
  {
   "cell_type": "code",
   "execution_count": 204,
   "id": "f927721b",
   "metadata": {},
   "outputs": [],
   "source": [
    "required_exceeded_mask = (graphic[\"volume_cumsum\"] >= graphic[\"requires\"]) & (graphic['requires'] != 0)"
   ]
  },
  {
   "cell_type": "code",
   "execution_count": 205,
   "id": "0d499860",
   "metadata": {},
   "outputs": [
    {
     "data": {
      "text/plain": [
       "0    False\n",
       "1     True\n",
       "2    False\n",
       "3     True\n",
       "dtype: bool"
      ]
     },
     "execution_count": 205,
     "metadata": {},
     "output_type": "execute_result"
    }
   ],
   "source": [
    "required_exceeded_mask"
   ]
  },
  {
   "cell_type": "code",
   "execution_count": 206,
   "id": "75bcf22a",
   "metadata": {},
   "outputs": [
    {
     "data": {
      "text/html": [
       "<div>\n",
       "<style scoped>\n",
       "    .dataframe tbody tr th:only-of-type {\n",
       "        vertical-align: middle;\n",
       "    }\n",
       "\n",
       "    .dataframe tbody tr th {\n",
       "        vertical-align: top;\n",
       "    }\n",
       "\n",
       "    .dataframe thead th {\n",
       "        text-align: right;\n",
       "    }\n",
       "</style>\n",
       "<table border=\"1\" class=\"dataframe\">\n",
       "  <thead>\n",
       "    <tr style=\"text-align: right;\">\n",
       "      <th></th>\n",
       "      <th>area</th>\n",
       "      <th>code</th>\n",
       "      <th>date</th>\n",
       "      <th>volume</th>\n",
       "      <th>requires</th>\n",
       "      <th>volume_cumsum</th>\n",
       "    </tr>\n",
       "  </thead>\n",
       "  <tbody>\n",
       "    <tr>\n",
       "      <th>1</th>\n",
       "      <td>a</td>\n",
       "      <td>17</td>\n",
       "      <td>2022-06-11</td>\n",
       "      <td>5</td>\n",
       "      <td>1</td>\n",
       "      <td>10</td>\n",
       "    </tr>\n",
       "    <tr>\n",
       "      <th>3</th>\n",
       "      <td>a</td>\n",
       "      <td>17</td>\n",
       "      <td>2022-06-11</td>\n",
       "      <td>5</td>\n",
       "      <td>2</td>\n",
       "      <td>20</td>\n",
       "    </tr>\n",
       "  </tbody>\n",
       "</table>\n",
       "</div>"
      ],
      "text/plain": [
       "  area  code       date  volume  requires  volume_cumsum\n",
       "1    a    17 2022-06-11       5         1             10\n",
       "3    a    17 2022-06-11       5         2             20"
      ]
     },
     "execution_count": 206,
     "metadata": {},
     "output_type": "execute_result"
    }
   ],
   "source": [
    "graphic[required_exceeded_mask]"
   ]
  },
  {
   "cell_type": "code",
   "execution_count": 207,
   "id": "0bcfb9e9",
   "metadata": {},
   "outputs": [],
   "source": [
    "min_exceeding_date = (\n",
    "    graphic[required_exceeded_mask].groupby([\"area\", \"code\"])[\"date\"].min()\n",
    ")"
   ]
  },
  {
   "cell_type": "code",
   "execution_count": 208,
   "id": "d2ce3330",
   "metadata": {},
   "outputs": [
    {
     "data": {
      "text/plain": [
       "area  code\n",
       "a     17     2022-06-11\n",
       "Name: date, dtype: datetime64[ns]"
      ]
     },
     "execution_count": 208,
     "metadata": {},
     "output_type": "execute_result"
    }
   ],
   "source": [
    "min_exceeding_date"
   ]
  },
  {
   "cell_type": "code",
   "execution_count": 209,
   "id": "9a7949f8",
   "metadata": {},
   "outputs": [],
   "source": [
    "result = orders.merge(\n",
    "    min_exceeding_date, left_on=[\"area\", \"code\"], right_index=True, how=\"outer\"\n",
    ")"
   ]
  },
  {
   "cell_type": "code",
   "execution_count": null,
   "id": "ae306e4e",
   "metadata": {},
   "outputs": [],
   "source": []
  },
  {
   "cell_type": "code",
   "execution_count": 210,
   "id": "c7bd0e75",
   "metadata": {},
   "outputs": [
    {
     "data": {
      "text/html": [
       "<div>\n",
       "<style scoped>\n",
       "    .dataframe tbody tr th:only-of-type {\n",
       "        vertical-align: middle;\n",
       "    }\n",
       "\n",
       "    .dataframe tbody tr th {\n",
       "        vertical-align: top;\n",
       "    }\n",
       "\n",
       "    .dataframe thead th {\n",
       "        text-align: right;\n",
       "    }\n",
       "</style>\n",
       "<table border=\"1\" class=\"dataframe\">\n",
       "  <thead>\n",
       "    <tr style=\"text-align: right;\">\n",
       "      <th></th>\n",
       "      <th>area</th>\n",
       "      <th>code</th>\n",
       "      <th>requires</th>\n",
       "      <th>date</th>\n",
       "    </tr>\n",
       "  </thead>\n",
       "  <tbody>\n",
       "    <tr>\n",
       "      <th>0</th>\n",
       "      <td>a</td>\n",
       "      <td>17</td>\n",
       "      <td>0</td>\n",
       "      <td>2022-06-11</td>\n",
       "    </tr>\n",
       "    <tr>\n",
       "      <th>1</th>\n",
       "      <td>a</td>\n",
       "      <td>17</td>\n",
       "      <td>1</td>\n",
       "      <td>2022-06-11</td>\n",
       "    </tr>\n",
       "    <tr>\n",
       "      <th>2</th>\n",
       "      <td>a</td>\n",
       "      <td>17</td>\n",
       "      <td>100</td>\n",
       "      <td>2022-06-11</td>\n",
       "    </tr>\n",
       "    <tr>\n",
       "      <th>3</th>\n",
       "      <td>a</td>\n",
       "      <td>17</td>\n",
       "      <td>2</td>\n",
       "      <td>2022-06-11</td>\n",
       "    </tr>\n",
       "  </tbody>\n",
       "</table>\n",
       "</div>"
      ],
      "text/plain": [
       "  area  code  requires       date\n",
       "0    a    17         0 2022-06-11\n",
       "1    a    17         1 2022-06-11\n",
       "2    a    17       100 2022-06-11\n",
       "3    a    17         2 2022-06-11"
      ]
     },
     "execution_count": 210,
     "metadata": {},
     "output_type": "execute_result"
    }
   ],
   "source": [
    "result"
   ]
  },
  {
   "cell_type": "code",
   "execution_count": 190,
   "id": "97ff0268",
   "metadata": {},
   "outputs": [],
   "source": [
    "result.loc[result['requires'] == 0] = 0"
   ]
  },
  {
   "cell_type": "code",
   "execution_count": 191,
   "id": "2c688f05",
   "metadata": {},
   "outputs": [
    {
     "data": {
      "text/html": [
       "<div>\n",
       "<style scoped>\n",
       "    .dataframe tbody tr th:only-of-type {\n",
       "        vertical-align: middle;\n",
       "    }\n",
       "\n",
       "    .dataframe tbody tr th {\n",
       "        vertical-align: top;\n",
       "    }\n",
       "\n",
       "    .dataframe thead th {\n",
       "        text-align: right;\n",
       "    }\n",
       "</style>\n",
       "<table border=\"1\" class=\"dataframe\">\n",
       "  <thead>\n",
       "    <tr style=\"text-align: right;\">\n",
       "      <th></th>\n",
       "      <th>area</th>\n",
       "      <th>code</th>\n",
       "      <th>requires</th>\n",
       "      <th>date</th>\n",
       "    </tr>\n",
       "  </thead>\n",
       "  <tbody>\n",
       "    <tr>\n",
       "      <th>0</th>\n",
       "      <td>0</td>\n",
       "      <td>0</td>\n",
       "      <td>0</td>\n",
       "      <td>0</td>\n",
       "    </tr>\n",
       "    <tr>\n",
       "      <th>1</th>\n",
       "      <td>0</td>\n",
       "      <td>0</td>\n",
       "      <td>0</td>\n",
       "      <td>0</td>\n",
       "    </tr>\n",
       "    <tr>\n",
       "      <th>2</th>\n",
       "      <td>0</td>\n",
       "      <td>0</td>\n",
       "      <td>0</td>\n",
       "      <td>0</td>\n",
       "    </tr>\n",
       "    <tr>\n",
       "      <th>3</th>\n",
       "      <td>a</td>\n",
       "      <td>17</td>\n",
       "      <td>5</td>\n",
       "      <td>2022-06-11 00:00:00</td>\n",
       "    </tr>\n",
       "  </tbody>\n",
       "</table>\n",
       "</div>"
      ],
      "text/plain": [
       "  area  code  requires                 date\n",
       "0    0     0         0                    0\n",
       "1    0     0         0                    0\n",
       "2    0     0         0                    0\n",
       "3    a    17         5  2022-06-11 00:00:00"
      ]
     },
     "execution_count": 191,
     "metadata": {},
     "output_type": "execute_result"
    }
   ],
   "source": [
    "result"
   ]
  },
  {
   "cell_type": "code",
   "execution_count": null,
   "id": "a881e0fb",
   "metadata": {},
   "outputs": [],
   "source": []
  },
  {
   "cell_type": "code",
   "execution_count": null,
   "id": "86ed7b96",
   "metadata": {},
   "outputs": [],
   "source": [
    "# Add the cummulative sum of volume (per group)\n",
    "graphic[\"volume_cumsum\"] = graphic.groupby([\"area\", \"code\"])[\"volume\"].cumsum()\n",
    "\n",
    "# Join with orders to add the requires column\n",
    "graphic = graphic.merge(orders, on=[\"area\", \"code\"])\n",
    "\n",
    "# Create a mask to leave only rows where requires is exceeded by the cumsum\n",
    "required_exceeded_mask = graphic[\"volume_cumsum\"] >= graphic[\"requires\"]\n",
    "\n",
    "# The minimal date where the requires was exceeded\n",
    "min_exceeding_date = (\n",
    "    graphic[required_exceeded_mask].groupby([\"area\", \"code\"])[\"date\"].min()\n",
    ")\n",
    "\n",
    "# Merge the minimal date to the orders dataframe - while keeping missing values\n",
    "result = orders.merge(\n",
    "    min_exceeding_date, left_on=[\"area\", \"code\"], right_index=True, how=\"outer\"\n",
    ")"
   ]
  },
  {
   "cell_type": "code",
   "execution_count": 22,
   "id": "b3dab017",
   "metadata": {},
   "outputs": [
    {
     "data": {
      "text/html": [
       "<div>\n",
       "<style scoped>\n",
       "    .dataframe tbody tr th:only-of-type {\n",
       "        vertical-align: middle;\n",
       "    }\n",
       "\n",
       "    .dataframe tbody tr th {\n",
       "        vertical-align: top;\n",
       "    }\n",
       "\n",
       "    .dataframe thead th {\n",
       "        text-align: right;\n",
       "    }\n",
       "</style>\n",
       "<table border=\"1\" class=\"dataframe\">\n",
       "  <thead>\n",
       "    <tr style=\"text-align: right;\">\n",
       "      <th></th>\n",
       "      <th>area</th>\n",
       "      <th>code</th>\n",
       "      <th>requires</th>\n",
       "      <th>date</th>\n",
       "    </tr>\n",
       "  </thead>\n",
       "  <tbody>\n",
       "    <tr>\n",
       "      <th>0</th>\n",
       "      <td>a</td>\n",
       "      <td>177</td>\n",
       "      <td>10.0</td>\n",
       "      <td>2022-06-13</td>\n",
       "    </tr>\n",
       "    <tr>\n",
       "      <th>1</th>\n",
       "      <td>b</td>\n",
       "      <td>23</td>\n",
       "      <td>3.0</td>\n",
       "      <td>NaN</td>\n",
       "    </tr>\n",
       "    <tr>\n",
       "      <th>2</th>\n",
       "      <td>c</td>\n",
       "      <td>10</td>\n",
       "      <td>6.0</td>\n",
       "      <td>2022-07-01</td>\n",
       "    </tr>\n",
       "  </tbody>\n",
       "</table>\n",
       "</div>"
      ],
      "text/plain": [
       "  area  code  requires        date\n",
       "0    a   177      10.0  2022-06-13\n",
       "1    b    23       3.0         NaN\n",
       "2    c    10       6.0  2022-07-01"
      ]
     },
     "execution_count": 22,
     "metadata": {},
     "output_type": "execute_result"
    }
   ],
   "source": [
    "result"
   ]
  },
  {
   "cell_type": "code",
   "execution_count": null,
   "id": "5a6bd469",
   "metadata": {},
   "outputs": [],
   "source": []
  },
  {
   "cell_type": "code",
   "execution_count": 214,
   "id": "93d34e37",
   "metadata": {},
   "outputs": [],
   "source": [
    "def data_shipment(city, code, required_to_make):\n",
    "    # проверяем есть ли вообще в списке graphic\n",
    "    if graphic[(graphic['area']==city) & (graphic['code']==code)].empty:\n",
    "        return np.nan\n",
    "    # если в таблице orders не требуется, то мы ставим черточку\n",
    "    elif required_to_make == 0:\n",
    "        print(2)\n",
    "        return np.nan\n",
    "    # иначе если есть и объема в графике достаточно, то мы    \n",
    "    \n",
    "    elif graphic.loc[(graphic['area']==city) & (graphic['code']==code), 'volume'].iloc[0] >= required_to_make:   \n",
    "        print('enough')\n",
    "        # вычитаем из объема\n",
    "        # добавить определенное дату, так как будет удалять все значения где код и пункт совпадаем\n",
    "        data_of_making = graphic.loc[(graphic['area']==city) & (graphic['code']==code) & \n",
    "                                    (graphic['date']==graphic.loc[(graphic['area']==city) \n",
    "                                    & (graphic['code']==code), 'date'].iloc[0]),'date'].iloc[0]\n",
    "        graphic.loc[(graphic['area']==city) & (graphic['code']==code) & (graphic['date']==data_of_making),\n",
    "                    'volume'] -= required_to_make\n",
    "        # и возвращаем дату\n",
    "        data = graphic[(graphic['area']==city) & (graphic['code']==code)]['date'].iloc[0]\n",
    "        return data\n",
    "    # иначе если недостаточно объема чем требуется ...\n",
    "    else:\n",
    "        # иначе если возвращается только одна дата, возвращает -\n",
    "        #graphic.loc[(graphic['Пункт отгрузки']==city) & (graphic['Код КССС']==code), 'Объем_фасовки, т'] = 0\n",
    "        if len(graphic.loc[(graphic['area']==city) & (graphic['code']==code)]) == 1:\n",
    "            print(3)\n",
    "            return np.nan\n",
    "        # и возращается несколько дат\n",
    "        elif len(graphic.loc[(graphic['area']==city) & (graphic['code']==code)]) > 1:\n",
    "            # вводим переменную длины, чтобы не выйти за пределы\n",
    "            len_of_dates = len(graphic.loc[(graphic['area']==city) & (graphic['code']==code)])\n",
    "            # вводим счетчик для того чтобы присвоить правильную дату\n",
    "            i = 0\n",
    "            # создаем накопительную переменную \n",
    "            storage_var = graphic.loc[(graphic['area']==city) & (graphic['code']==code), 'volume'].iloc[0]\n",
    "            list_of_dates_to_be_deleted = []\n",
    "\n",
    "            # пока объем фасовки меньше, чем требуется\n",
    "            while storage_var<required_to_make and len_of_dates>1:\n",
    "                len_of_dates-=1\n",
    "                # переходим к следующей\n",
    "                i+=1\n",
    "                # и прибавляем к накопительной переменной\n",
    "                storage_var+= graphic.loc[(graphic['area']==city) & (graphic['code']==code), 'volume'].iloc[i]\n",
    "                list_of_dates_to_be_deleted.append(graphic.loc[(graphic['area']==city) & (graphic['code']==code) & \n",
    "                                             (graphic['date']==graphic.loc[(graphic['area']==city) \n",
    "                                            & (graphic['code']==code), 'date'].iloc[i-1]),\n",
    "                                             'date'].iloc[0])                    \n",
    "            #если требуемый объем не накопился то возвращает -\n",
    "            if storage_var<required_to_make:\n",
    "                return np.nan\n",
    "            # иначе\n",
    "            else:\n",
    "                #нужно обнулить или удалить предыдущие даты, которые схлопнулись\n",
    "                for j in (list_of_dates_to_be_deleted):\n",
    "                    graphic.drop(graphic[(graphic['area']==city) & (graphic['code']==code) & \n",
    "                           (graphic['date']==j)].index, inplace=True)\n",
    "                    i-=1\n",
    "                data_of_making = graphic.loc[(graphic['area']==city) & (graphic['code']==code) & \n",
    "                                             (graphic['date']==graphic.loc[(graphic['area']==city) \n",
    "                                            & (graphic['code']==code), 'date'].iloc[i]),\n",
    "                                             'date'].iloc[0]\n",
    "        \n",
    "            # вычитаем\n",
    "            graphic.loc[(graphic['area']==city) & (graphic['code']==code) & \n",
    "                        (graphic['date']==data_of_making), 'volume'] = storage_var-required_to_make\n",
    " \n",
    "            data = graphic[(graphic['area']==city) & (graphic['code']==code)]['date'].iloc[i] \n",
    "            return data"
   ]
  },
  {
   "cell_type": "code",
   "execution_count": null,
   "id": "2be8f2d1",
   "metadata": {},
   "outputs": [],
   "source": [
    "orders['date'] = orders.apply(lambda x: data_shipment(x['area'], x['code'], x['requires']), axis=1)"
   ]
  },
  {
   "cell_type": "code",
   "execution_count": 123,
   "id": "48cc15bb",
   "metadata": {},
   "outputs": [
    {
     "data": {
      "text/html": [
       "<div>\n",
       "<style scoped>\n",
       "    .dataframe tbody tr th:only-of-type {\n",
       "        vertical-align: middle;\n",
       "    }\n",
       "\n",
       "    .dataframe tbody tr th {\n",
       "        vertical-align: top;\n",
       "    }\n",
       "\n",
       "    .dataframe thead th {\n",
       "        text-align: right;\n",
       "    }\n",
       "</style>\n",
       "<table border=\"1\" class=\"dataframe\">\n",
       "  <thead>\n",
       "    <tr style=\"text-align: right;\">\n",
       "      <th></th>\n",
       "      <th>area</th>\n",
       "      <th>code</th>\n",
       "      <th>requires</th>\n",
       "      <th>date</th>\n",
       "    </tr>\n",
       "  </thead>\n",
       "  <tbody>\n",
       "    <tr>\n",
       "      <th>0</th>\n",
       "      <td>a</td>\n",
       "      <td>177</td>\n",
       "      <td>10.0</td>\n",
       "      <td>2022-06-13</td>\n",
       "    </tr>\n",
       "    <tr>\n",
       "      <th>1</th>\n",
       "      <td>b</td>\n",
       "      <td>23</td>\n",
       "      <td>3.0</td>\n",
       "      <td>NaN</td>\n",
       "    </tr>\n",
       "    <tr>\n",
       "      <th>2</th>\n",
       "      <td>c</td>\n",
       "      <td>10</td>\n",
       "      <td>6.0</td>\n",
       "      <td>2022-07-01</td>\n",
       "    </tr>\n",
       "  </tbody>\n",
       "</table>\n",
       "</div>"
      ],
      "text/plain": [
       "  area  code  requires        date\n",
       "0    a   177      10.0  2022-06-13\n",
       "1    b    23       3.0         NaN\n",
       "2    c    10       6.0  2022-07-01"
      ]
     },
     "execution_count": 123,
     "metadata": {},
     "output_type": "execute_result"
    }
   ],
   "source": [
    "orders"
   ]
  },
  {
   "cell_type": "code",
   "execution_count": 124,
   "id": "956ea64a",
   "metadata": {},
   "outputs": [
    {
     "data": {
      "text/html": [
       "<div>\n",
       "<style scoped>\n",
       "    .dataframe tbody tr th:only-of-type {\n",
       "        vertical-align: middle;\n",
       "    }\n",
       "\n",
       "    .dataframe tbody tr th {\n",
       "        vertical-align: top;\n",
       "    }\n",
       "\n",
       "    .dataframe thead th {\n",
       "        text-align: right;\n",
       "    }\n",
       "</style>\n",
       "<table border=\"1\" class=\"dataframe\">\n",
       "  <thead>\n",
       "    <tr style=\"text-align: right;\">\n",
       "      <th></th>\n",
       "      <th>area</th>\n",
       "      <th>code</th>\n",
       "      <th>date</th>\n",
       "      <th>volume</th>\n",
       "    </tr>\n",
       "  </thead>\n",
       "  <tbody>\n",
       "    <tr>\n",
       "      <th>2</th>\n",
       "      <td>a</td>\n",
       "      <td>177</td>\n",
       "      <td>2022-06-13</td>\n",
       "      <td>0.0</td>\n",
       "    </tr>\n",
       "    <tr>\n",
       "      <th>3</th>\n",
       "      <td>c</td>\n",
       "      <td>10</td>\n",
       "      <td>2022-07-01</td>\n",
       "      <td>0.0</td>\n",
       "    </tr>\n",
       "    <tr>\n",
       "      <th>4</th>\n",
       "      <td>c</td>\n",
       "      <td>10</td>\n",
       "      <td>2022-07-03</td>\n",
       "      <td>3.0</td>\n",
       "    </tr>\n",
       "  </tbody>\n",
       "</table>\n",
       "</div>"
      ],
      "text/plain": [
       "  area  code        date  volume\n",
       "2    a   177  2022-06-13     0.0\n",
       "3    c    10  2022-07-01     0.0\n",
       "4    c    10  2022-07-03     3.0"
      ]
     },
     "execution_count": 124,
     "metadata": {},
     "output_type": "execute_result"
    }
   ],
   "source": [
    "graphic"
   ]
  },
  {
   "cell_type": "code",
   "execution_count": null,
   "id": "19e9f4a8",
   "metadata": {},
   "outputs": [],
   "source": []
  }
 ],
 "metadata": {
  "kernelspec": {
   "display_name": "Python 3 (ipykernel)",
   "language": "python",
   "name": "python3"
  },
  "language_info": {
   "codemirror_mode": {
    "name": "ipython",
    "version": 3
   },
   "file_extension": ".py",
   "mimetype": "text/x-python",
   "name": "python",
   "nbconvert_exporter": "python",
   "pygments_lexer": "ipython3",
   "version": "3.9.12"
  }
 },
 "nbformat": 4,
 "nbformat_minor": 5
}
