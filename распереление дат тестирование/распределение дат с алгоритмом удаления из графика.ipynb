{
 "cells": [
  {
   "cell_type": "code",
   "execution_count": 37,
   "id": "dc359fe1",
   "metadata": {},
   "outputs": [],
   "source": [
    "import pandas as pd"
   ]
  },
  {
   "cell_type": "code",
   "execution_count": 38,
   "id": "9f62166e",
   "metadata": {},
   "outputs": [],
   "source": [
    "orders = pd.read_excel('orders-test.xlsx')\n",
    "graphic = pd.read_excel('graphic-test.xlsx')"
   ]
  },
  {
   "cell_type": "code",
   "execution_count": 39,
   "id": "307c8ff4",
   "metadata": {},
   "outputs": [
    {
     "data": {
      "text/html": [
       "<div>\n",
       "<style scoped>\n",
       "    .dataframe tbody tr th:only-of-type {\n",
       "        vertical-align: middle;\n",
       "    }\n",
       "\n",
       "    .dataframe tbody tr th {\n",
       "        vertical-align: top;\n",
       "    }\n",
       "\n",
       "    .dataframe thead th {\n",
       "        text-align: right;\n",
       "    }\n",
       "</style>\n",
       "<table border=\"1\" class=\"dataframe\">\n",
       "  <thead>\n",
       "    <tr style=\"text-align: right;\">\n",
       "      <th></th>\n",
       "      <th>КССС мат</th>\n",
       "      <th>Пункт отгрузки</th>\n",
       "      <th>осталось произвести, тн</th>\n",
       "    </tr>\n",
       "  </thead>\n",
       "  <tbody>\n",
       "    <tr>\n",
       "      <th>0</th>\n",
       "      <td>1779443</td>\n",
       "      <td>ВНП</td>\n",
       "      <td>8</td>\n",
       "    </tr>\n",
       "  </tbody>\n",
       "</table>\n",
       "</div>"
      ],
      "text/plain": [
       "   КССС мат Пункт отгрузки  осталось произвести, тн\n",
       "0   1779443            ВНП                        8"
      ]
     },
     "execution_count": 39,
     "metadata": {},
     "output_type": "execute_result"
    }
   ],
   "source": [
    "orders"
   ]
  },
  {
   "cell_type": "code",
   "execution_count": 40,
   "id": "092cfbd6",
   "metadata": {},
   "outputs": [
    {
     "data": {
      "text/html": [
       "<div>\n",
       "<style scoped>\n",
       "    .dataframe tbody tr th:only-of-type {\n",
       "        vertical-align: middle;\n",
       "    }\n",
       "\n",
       "    .dataframe tbody tr th {\n",
       "        vertical-align: top;\n",
       "    }\n",
       "\n",
       "    .dataframe thead th {\n",
       "        text-align: right;\n",
       "    }\n",
       "</style>\n",
       "<table border=\"1\" class=\"dataframe\">\n",
       "  <thead>\n",
       "    <tr style=\"text-align: right;\">\n",
       "      <th></th>\n",
       "      <th>Пункт отгрузки</th>\n",
       "      <th>Код КССС</th>\n",
       "      <th>Дата_производства</th>\n",
       "      <th>Объем_фасовки, т</th>\n",
       "    </tr>\n",
       "  </thead>\n",
       "  <tbody>\n",
       "    <tr>\n",
       "      <th>0</th>\n",
       "      <td>ВНП</td>\n",
       "      <td>1779443</td>\n",
       "      <td>2022-06-11</td>\n",
       "      <td>8</td>\n",
       "    </tr>\n",
       "  </tbody>\n",
       "</table>\n",
       "</div>"
      ],
      "text/plain": [
       "  Пункт отгрузки  Код КССС Дата_производства  Объем_фасовки, т\n",
       "0            ВНП   1779443        2022-06-11                 8"
      ]
     },
     "execution_count": 40,
     "metadata": {},
     "output_type": "execute_result"
    }
   ],
   "source": [
    "graphic"
   ]
  },
  {
   "cell_type": "code",
   "execution_count": 41,
   "id": "22b41931",
   "metadata": {},
   "outputs": [],
   "source": [
    "def data_shipment(city, code, required_to_make):\n",
    "    print('НАЧАЛО:')\n",
    "    print(graphic)\n",
    "    print('required_to_make: ', required_to_make)\n",
    "    ## проверяем есть ли вообще в списке graphic\n",
    "    if graphic[(graphic['Пункт отгрузки']==city) & (graphic['Код КССС']==code)].empty:\n",
    "        return '-'\n",
    "    ## если в таблице orders не требуется, то мы ставим черточку\n",
    "    elif required_to_make == 0:\n",
    "        return '-'\n",
    "    ## иначе если есть и объема в графике достаточно, то мы    \n",
    "    elif graphic.loc[(graphic['Пункт отгрузки']==city) & (graphic['Код КССС']==code), 'Объем_фасовки, т'].iloc[0] >= required_to_make:   \n",
    "        print('Объем больше')\n",
    "        \n",
    "        ## вычитаем из объема\n",
    "        ## добавить определенное дату, так как будет удалять все значения где код и пункт совпадаем\n",
    "        data_of_making = graphic.loc[(graphic['Пункт отгрузки']==city) & (graphic['Код КССС']==code) & \n",
    "                                    (graphic['Дата_производства']==graphic.loc[(graphic['Пункт отгрузки']==city) \n",
    "                                    & (graphic['Код КССС']==code), 'Дата_производства'].iloc[0]),'Дата_производства'].iloc[0]\n",
    "        graphic.loc[(graphic['Пункт отгрузки']==city) & (graphic['Код КССС']==code) & (graphic['Дата_производства']==data_of_making),\n",
    "                    'Объем_фасовки, т'] -= required_to_make\n",
    "        # и возвращаем дату\n",
    "        data = graphic[(graphic['Пункт отгрузки']==city) & (graphic['Код КССС']==code)]['Дата_производства'].dt.date.iloc[0]\n",
    "        print('graphic1: ', graphic)\n",
    "        return data\n",
    "    ## иначе если недостаточно объема чем требуется ...\n",
    "    else:\n",
    "        print('объем меньше')\n",
    "        ## иначе если возвращается только одна дата, возвращаем -\n",
    "        if len(graphic.loc[(graphic['Пункт отгрузки']==city) & (graphic['Код КССС']==code)]) == 1:\n",
    "            #graphic.drop(graphic[(graphic['Пункт отгрузки']==city) & (graphic['Код КССС']==code)].index, inplace=True)\n",
    "            print('graphic3', graphic)\n",
    "        #return graphic[(graphic['Пункт отгрузки']==city) & (graphic['Код КССС']==code)]['Дата_производства'].dt.date.iloc[0] \n",
    "            return \"-\"\n",
    "        \n",
    "        \n",
    "        ## и возращается несколько дат\n",
    "        elif len(graphic.loc[(graphic['Пункт отгрузки']==city) & (graphic['Код КССС']==code)]) > 1:\n",
    "            ## вводим переменную длины, чтобы не выйти за пределы\n",
    "            len_of_dates = len(graphic.loc[(graphic['Пункт отгрузки']==city) & (graphic['Код КССС']==code)])\n",
    "            ## вводим счетчик для того чтобы присвоить правильную дату\n",
    "            i = 0\n",
    "            ## создаем накопительную переменную \n",
    "            storage_var = graphic.loc[(graphic['Пункт отгрузки']==city) & (graphic['Код КССС']==code), 'Объем_фасовки, т'].iloc[0]\n",
    "            list_of_dates_to_be_deleted = []\n",
    "\n",
    "            ## пока объем фасовки меньше, чем требуется\n",
    "            while storage_var<required_to_make and len_of_dates>1:\n",
    "                print('в цикле')\n",
    "                print('len_of_dates=', len_of_dates)\n",
    "                len_of_dates-=1\n",
    "                ## переходим к следующей\n",
    "                i+=1\n",
    "                ## и прибавляем к накопительной переменной\n",
    "                storage_var+= graphic.loc[(graphic['Пункт отгрузки']==city) & (graphic['Код КССС']==code), 'Объем_фасовки, т'].iloc[i]\n",
    "                print('прибавили к накопительной следующий объем: ', storage_var)\n",
    "                list_of_dates_to_be_deleted.append(graphic.loc[(graphic['Пункт отгрузки']==city) & (graphic['Код КССС']==code) & \n",
    "                                             (graphic['Дата_производства']==graphic.loc[(graphic['Пункт отгрузки']==city) \n",
    "                                            & (graphic['Код КССС']==code), 'Дата_производства'].iloc[i-1]),\n",
    "                                             'Дата_производства'].iloc[0])\n",
    "                print('даты которые нужно удалить: ', list_of_dates_to_be_deleted)\n",
    "                 ## и обнуляем в графике объем фасовки\n",
    "                #graphic.loc[(graphic['Пункт отгрузки']==city) & (graphic['Код КССС']==code), 'Объем_фасовки, т'].iloc[i]\n",
    "                \n",
    "                print('storage fresh, ', storage_var)\n",
    "                print('required fresh, ' , required_to_make) \n",
    "                \n",
    "            #если требуемый объем не накопился то возвращает -\n",
    "            if storage_var<required_to_make:\n",
    "                print('не накопился')\n",
    "                return '-'\n",
    "            # иначе\n",
    "            else:\n",
    "                ##нужно обнулить или удалить предыдущие даты, которые схлопнулись\n",
    "                for j in (list_of_dates_to_be_deleted):\n",
    "                    graphic.drop(graphic[(graphic['Пункт отгрузки']==city) & (graphic['Код КССС']==code) & \n",
    "                           (graphic['Дата_производства']==j)].index, inplace=True)\n",
    "                    i-=1\n",
    "                print('i= ',i)\n",
    "                \n",
    "                ## предыдущая дата и текущая\n",
    "#                 data_of_making_pred = graphic.loc[(graphic['Пункт отгрузки']==city) & (graphic['Код КССС']==code) & \n",
    "#                                              (graphic['Дата_производства']==graphic.loc[(graphic['Пункт отгрузки']==city) \n",
    "#                                             & (graphic['Код КССС']==code), 'Дата_производства'].iloc[i-1]),\n",
    "#                                              'Дата_производства'].iloc[0]\n",
    "                data_of_making = graphic.loc[(graphic['Пункт отгрузки']==city) & (graphic['Код КССС']==code) & \n",
    "                                             (graphic['Дата_производства']==graphic.loc[(graphic['Пункт отгрузки']==city) \n",
    "                                            & (graphic['Код КССС']==code), 'Дата_производства'].iloc[i]),\n",
    "                                             'Дата_производства'].iloc[0]\n",
    "                \n",
    "                ##попробуем не обнулять, а сразу удалять график которого объем стал равен нулю\n",
    "#                 graphic.drop(graphic[(graphic['Пункт отгрузки']==city) & (graphic['Код КССС']==code) & \n",
    "#                             (graphic['Дата_производства']==data_of_making_pred)].index, inplace=True)\n",
    "                print('после удаления:, ',graphic)\n",
    "                \n",
    "\n",
    "            print('data making', data_of_making)\n",
    "        \n",
    "            ## вычитаем\n",
    "            graphic.loc[(graphic['Пункт отгрузки']==city) & (graphic['Код КССС']==code) & \n",
    "                        (graphic['Дата_производства']==data_of_making), 'Объем_фасовки, т'] = storage_var-required_to_make\n",
    "            print('вычли')\n",
    "\n",
    "\n",
    "            print('по окончанию цикла возвращает тот i который требуется', i)    \n",
    "            data = graphic[(graphic['Пункт отгрузки']==city) & (graphic['Код КССС']==code)]['Дата_производства'].dt.date.iloc[i] \n",
    "            print('graphic2', graphic)\n",
    "            return data\n",
    "\n",
    "        \n",
    "        \n",
    "        \n"
   ]
  },
  {
   "cell_type": "code",
   "execution_count": 42,
   "id": "5009b647",
   "metadata": {
    "scrolled": true
   },
   "outputs": [
    {
     "name": "stdout",
     "output_type": "stream",
     "text": [
      "НАЧАЛО:\n",
      "  Пункт отгрузки  Код КССС Дата_производства  Объем_фасовки, т\n",
      "0            ВНП   1779443        2022-06-11                 8\n",
      "required_to_make:  8\n",
      "Объем больше\n",
      "graphic1:    Пункт отгрузки  Код КССС Дата_производства  Объем_фасовки, т\n",
      "0            ВНП   1779443        2022-06-11                 0\n"
     ]
    }
   ],
   "source": [
    "orders['дата производства'] = orders.apply(lambda x: data_shipment(x['Пункт отгрузки'], x['КССС мат'], x['осталось произвести, тн']), axis=1)"
   ]
  },
  {
   "cell_type": "code",
   "execution_count": 43,
   "id": "01452e51",
   "metadata": {},
   "outputs": [
    {
     "data": {
      "text/html": [
       "<div>\n",
       "<style scoped>\n",
       "    .dataframe tbody tr th:only-of-type {\n",
       "        vertical-align: middle;\n",
       "    }\n",
       "\n",
       "    .dataframe tbody tr th {\n",
       "        vertical-align: top;\n",
       "    }\n",
       "\n",
       "    .dataframe thead th {\n",
       "        text-align: right;\n",
       "    }\n",
       "</style>\n",
       "<table border=\"1\" class=\"dataframe\">\n",
       "  <thead>\n",
       "    <tr style=\"text-align: right;\">\n",
       "      <th></th>\n",
       "      <th>Пункт отгрузки</th>\n",
       "      <th>Код КССС</th>\n",
       "      <th>Дата_производства</th>\n",
       "      <th>Объем_фасовки, т</th>\n",
       "    </tr>\n",
       "  </thead>\n",
       "  <tbody>\n",
       "    <tr>\n",
       "      <th>0</th>\n",
       "      <td>ВНП</td>\n",
       "      <td>1779443</td>\n",
       "      <td>2022-06-11</td>\n",
       "      <td>0</td>\n",
       "    </tr>\n",
       "  </tbody>\n",
       "</table>\n",
       "</div>"
      ],
      "text/plain": [
       "  Пункт отгрузки  Код КССС Дата_производства  Объем_фасовки, т\n",
       "0            ВНП   1779443        2022-06-11                 0"
      ]
     },
     "execution_count": 43,
     "metadata": {},
     "output_type": "execute_result"
    }
   ],
   "source": [
    "graphic"
   ]
  },
  {
   "cell_type": "code",
   "execution_count": 44,
   "id": "8da14595",
   "metadata": {},
   "outputs": [
    {
     "data": {
      "text/html": [
       "<div>\n",
       "<style scoped>\n",
       "    .dataframe tbody tr th:only-of-type {\n",
       "        vertical-align: middle;\n",
       "    }\n",
       "\n",
       "    .dataframe tbody tr th {\n",
       "        vertical-align: top;\n",
       "    }\n",
       "\n",
       "    .dataframe thead th {\n",
       "        text-align: right;\n",
       "    }\n",
       "</style>\n",
       "<table border=\"1\" class=\"dataframe\">\n",
       "  <thead>\n",
       "    <tr style=\"text-align: right;\">\n",
       "      <th></th>\n",
       "      <th>КССС мат</th>\n",
       "      <th>Пункт отгрузки</th>\n",
       "      <th>осталось произвести, тн</th>\n",
       "      <th>дата производства</th>\n",
       "    </tr>\n",
       "  </thead>\n",
       "  <tbody>\n",
       "    <tr>\n",
       "      <th>0</th>\n",
       "      <td>1779443</td>\n",
       "      <td>ВНП</td>\n",
       "      <td>8</td>\n",
       "      <td>2022-06-11</td>\n",
       "    </tr>\n",
       "  </tbody>\n",
       "</table>\n",
       "</div>"
      ],
      "text/plain": [
       "   КССС мат Пункт отгрузки  осталось произвести, тн дата производства\n",
       "0   1779443            ВНП                        8        2022-06-11"
      ]
     },
     "execution_count": 44,
     "metadata": {},
     "output_type": "execute_result"
    }
   ],
   "source": [
    "orders"
   ]
  },
  {
   "cell_type": "code",
   "execution_count": 712,
   "id": "c11f0155",
   "metadata": {},
   "outputs": [
    {
     "data": {
      "text/plain": [
       "Series([], Name: Объем_фасовки, т, dtype: int64)"
      ]
     },
     "execution_count": 712,
     "metadata": {},
     "output_type": "execute_result"
    }
   ],
   "source": [
    "graphic.loc[(graphic['Пункт отгрузки']=='ПНОС') & (graphic['Код КССС']==207465), 'Объем_фасовки, т']"
   ]
  },
  {
   "cell_type": "code",
   "execution_count": 713,
   "id": "b9a5c9c3",
   "metadata": {},
   "outputs": [
    {
     "data": {
      "text/plain": [
       "True"
      ]
     },
     "execution_count": 713,
     "metadata": {},
     "output_type": "execute_result"
    }
   ],
   "source": [
    "graphic[(graphic['Пункт отгрузки']==\"ПНОС\") & (graphic['Код КССС']==20746)].empty"
   ]
  },
  {
   "cell_type": "code",
   "execution_count": 714,
   "id": "7900f329",
   "metadata": {},
   "outputs": [],
   "source": [
    "##делать колонку с тем, сколько не хватает еще бессмысленно, так как продукт может далее распределиться по другим заказам, \n",
    "#для которых хватает и тогда число не будет иметь значение"
   ]
  },
  {
   "cell_type": "code",
   "execution_count": 715,
   "id": "333a4ae2",
   "metadata": {},
   "outputs": [],
   "source": [
    "# проверить если не накопилась дважды или трижды"
   ]
  }
 ],
 "metadata": {
  "kernelspec": {
   "display_name": "Python 3 (ipykernel)",
   "language": "python",
   "name": "python3"
  },
  "language_info": {
   "codemirror_mode": {
    "name": "ipython",
    "version": 3
   },
   "file_extension": ".py",
   "mimetype": "text/x-python",
   "name": "python",
   "nbconvert_exporter": "python",
   "pygments_lexer": "ipython3",
   "version": "3.9.7"
  }
 },
 "nbformat": 4,
 "nbformat_minor": 5
}
