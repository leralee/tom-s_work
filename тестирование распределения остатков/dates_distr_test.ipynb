{
 "cells": [
  {
   "cell_type": "code",
   "execution_count": 1,
   "id": "dc359fe1",
   "metadata": {},
   "outputs": [],
   "source": [
    "import pandas as pd"
   ]
  },
  {
   "cell_type": "code",
   "execution_count": 2,
   "id": "c196999e",
   "metadata": {},
   "outputs": [],
   "source": [
    "import numpy as np"
   ]
  },
  {
   "cell_type": "code",
   "execution_count": 44,
   "id": "9f62166e",
   "metadata": {},
   "outputs": [],
   "source": [
    "columns = ['data', 'area', 'number_product', 'balances', 'element']\n",
    "list_operfas = []\n",
    "for i in os.listdir(\"operfas\"):\n",
    "    i = pd.read_csv('operfas/'+i, sep='\\s+', encoding='CP1251', header = None)\n",
    "    \n",
    "    list_operfas.append(i)\n",
    "\n",
    "\n",
    "for i in list_operfas:\n",
    "    i.dropna(axis=1, inplace=True)\n",
    "    i.dropna(axis=0, how='all', inplace=True)\n",
    "    i.columns = columns\n",
    "    i['balances'] = i['balances'].apply(lambda x: float(x.split()[0].replace(',', '.')))\n",
    "    \n",
    "\n",
    "    \n",
    "req_3_factory = pd.DataFrame(pd.concat(list_operfas, ignore_index=True))\n",
    "\n",
    "req_3_factory\n",
    "\n",
    "req_3_factory.drop(['data', 'element'], axis=1, inplace=True)\n",
    "\n",
    "fiz_ostatki = req_3_factory.groupby(['area','number_product'], as_index=False).sum()\n",
    "\n",
    "scrap = pd.read_excel(\"брак/брак.xlsx\",usecols=[0,2,3],names=['number_product','balances', 'area'])\n",
    "\n",
    "scrap = scrap.reindex(columns=['area','number_product', 'balances'])\n",
    "\n",
    "scrap['balances'] = scrap['balances']*1000\n",
    "scrap['area'] = 198349\n",
    "pd.merge(scrap, fiz_ostatki, on=['area','number_product'])\n",
    "temp_requirements = pd.merge(fiz_ostatki, scrap, on=['area','number_product'], how='left', suffixes=('_req', '_scrap'))\n",
    "temp_requirements['balances_scrap'].fillna(0, inplace=True)\n",
    "temp_requirements['balances'] = temp_requirements['balances_req']-temp_requirements['balances_scrap']\n",
    "fiz_ostatki = temp_requirements.drop(['balances_scrap', 'balances_req'], axis=1)\n",
    "\n",
    "def area_change_name(area):\n",
    "    if area == 1078:\n",
    "        return 'Волгоградский НПЗ'\n",
    "    elif area == 198349:\n",
    "        return 'Пермнефтеоргсинтез ООО'\n",
    "    elif area == 119388:\n",
    "        return 'Тюменский Филиал'\n",
    "    else:\n",
    "        return area\n",
    "    \n",
    "fiz_ostatki['area'] = fiz_ostatki.apply(lambda x: area_change_name(x['area']), axis=1)\n",
    "fiz_ostatki['balances'] = fiz_ostatki['balances']/1000"
   ]
  },
  {
   "cell_type": "code",
   "execution_count": 45,
   "id": "307c8ff4",
   "metadata": {},
   "outputs": [
    {
     "data": {
      "text/html": [
       "<div>\n",
       "<style scoped>\n",
       "    .dataframe tbody tr th:only-of-type {\n",
       "        vertical-align: middle;\n",
       "    }\n",
       "\n",
       "    .dataframe tbody tr th {\n",
       "        vertical-align: top;\n",
       "    }\n",
       "\n",
       "    .dataframe thead th {\n",
       "        text-align: right;\n",
       "    }\n",
       "</style>\n",
       "<table border=\"1\" class=\"dataframe\">\n",
       "  <thead>\n",
       "    <tr style=\"text-align: right;\">\n",
       "      <th></th>\n",
       "      <th>Код КССС</th>\n",
       "      <th>Пункт отгрузки</th>\n",
       "      <th>осталось произвести, тн</th>\n",
       "    </tr>\n",
       "  </thead>\n",
       "  <tbody>\n",
       "    <tr>\n",
       "      <th>0</th>\n",
       "      <td>1779443</td>\n",
       "      <td>ВНП</td>\n",
       "      <td>10</td>\n",
       "    </tr>\n",
       "    <tr>\n",
       "      <th>1</th>\n",
       "      <td>23</td>\n",
       "      <td>ПНОС</td>\n",
       "      <td>3</td>\n",
       "    </tr>\n",
       "  </tbody>\n",
       "</table>\n",
       "</div>"
      ],
      "text/plain": [
       "   Код КССС Пункт отгрузки  осталось произвести, тн\n",
       "0   1779443            ВНП                       10\n",
       "1        23           ПНОС                        3"
      ]
     },
     "execution_count": 45,
     "metadata": {},
     "output_type": "execute_result"
    }
   ],
   "source": [
    "orders"
   ]
  },
  {
   "cell_type": "code",
   "execution_count": 46,
   "id": "092cfbd6",
   "metadata": {},
   "outputs": [
    {
     "data": {
      "text/html": [
       "<div>\n",
       "<style scoped>\n",
       "    .dataframe tbody tr th:only-of-type {\n",
       "        vertical-align: middle;\n",
       "    }\n",
       "\n",
       "    .dataframe tbody tr th {\n",
       "        vertical-align: top;\n",
       "    }\n",
       "\n",
       "    .dataframe thead th {\n",
       "        text-align: right;\n",
       "    }\n",
       "</style>\n",
       "<table border=\"1\" class=\"dataframe\">\n",
       "  <thead>\n",
       "    <tr style=\"text-align: right;\">\n",
       "      <th></th>\n",
       "      <th>Пункт отгрузки</th>\n",
       "      <th>Код КССС</th>\n",
       "      <th>Дата_производства</th>\n",
       "      <th>Объем_фасовки, т</th>\n",
       "    </tr>\n",
       "  </thead>\n",
       "  <tbody>\n",
       "    <tr>\n",
       "      <th>0</th>\n",
       "      <td>ВНП</td>\n",
       "      <td>1779443</td>\n",
       "      <td>2022-06-11</td>\n",
       "      <td>8</td>\n",
       "    </tr>\n",
       "    <tr>\n",
       "      <th>1</th>\n",
       "      <td>ВНП</td>\n",
       "      <td>1779443</td>\n",
       "      <td>2022-06-12</td>\n",
       "      <td>5</td>\n",
       "    </tr>\n",
       "    <tr>\n",
       "      <th>2</th>\n",
       "      <td>ВНП</td>\n",
       "      <td>1779443</td>\n",
       "      <td>2022-06-13</td>\n",
       "      <td>3</td>\n",
       "    </tr>\n",
       "  </tbody>\n",
       "</table>\n",
       "</div>"
      ],
      "text/plain": [
       "  Пункт отгрузки  Код КССС Дата_производства  Объем_фасовки, т\n",
       "0            ВНП   1779443        2022-06-11                 8\n",
       "1            ВНП   1779443        2022-06-12                 5\n",
       "2            ВНП   1779443        2022-06-13                 3"
      ]
     },
     "execution_count": 46,
     "metadata": {},
     "output_type": "execute_result"
    }
   ],
   "source": [
    "graphic"
   ]
  },
  {
   "cell_type": "code",
   "execution_count": 11,
   "id": "d8c2006c",
   "metadata": {},
   "outputs": [
    {
     "data": {
      "text/plain": [
       "0     8\n",
       "1     9\n",
       "2    12\n",
       "3    64\n",
       "4     2\n",
       "Name: Объем_фасовки, т, dtype: int32"
      ]
     },
     "execution_count": 11,
     "metadata": {},
     "output_type": "execute_result"
    }
   ],
   "source": [
    "graphic['Объем_фасовки, т'].apply(np.sum)"
   ]
  },
  {
   "cell_type": "code",
   "execution_count": 12,
   "id": "1c087cd0",
   "metadata": {},
   "outputs": [
    {
     "data": {
      "text/html": [
       "<div>\n",
       "<style scoped>\n",
       "    .dataframe tbody tr th:only-of-type {\n",
       "        vertical-align: middle;\n",
       "    }\n",
       "\n",
       "    .dataframe tbody tr th {\n",
       "        vertical-align: top;\n",
       "    }\n",
       "\n",
       "    .dataframe thead th {\n",
       "        text-align: right;\n",
       "    }\n",
       "</style>\n",
       "<table border=\"1\" class=\"dataframe\">\n",
       "  <thead>\n",
       "    <tr style=\"text-align: right;\">\n",
       "      <th></th>\n",
       "      <th>A</th>\n",
       "      <th>B</th>\n",
       "    </tr>\n",
       "  </thead>\n",
       "  <tbody>\n",
       "    <tr>\n",
       "      <th>0</th>\n",
       "      <td>4</td>\n",
       "      <td>9</td>\n",
       "    </tr>\n",
       "    <tr>\n",
       "      <th>1</th>\n",
       "      <td>4</td>\n",
       "      <td>9</td>\n",
       "    </tr>\n",
       "    <tr>\n",
       "      <th>2</th>\n",
       "      <td>4</td>\n",
       "      <td>9</td>\n",
       "    </tr>\n",
       "  </tbody>\n",
       "</table>\n",
       "</div>"
      ],
      "text/plain": [
       "   A  B\n",
       "0  4  9\n",
       "1  4  9\n",
       "2  4  9"
      ]
     },
     "execution_count": 12,
     "metadata": {},
     "output_type": "execute_result"
    }
   ],
   "source": [
    "df = pd.DataFrame([[4, 9]] * 3, columns=['A', 'B'])\n",
    "df"
   ]
  },
  {
   "cell_type": "code",
   "execution_count": 20,
   "id": "426b0a76",
   "metadata": {},
   "outputs": [],
   "source": [
    "def sqrt():\n",
    "    return 26"
   ]
  },
  {
   "cell_type": "code",
   "execution_count": 27,
   "id": "8302909f",
   "metadata": {},
   "outputs": [
    {
     "data": {
      "text/plain": [
       "A    26\n",
       "B    26\n",
       "dtype: int64"
      ]
     },
     "execution_count": 27,
     "metadata": {},
     "output_type": "execute_result"
    }
   ],
   "source": [
    "df.apply(lambda x: sqrt())"
   ]
  },
  {
   "cell_type": "code",
   "execution_count": null,
   "id": "e6c5c0b9",
   "metadata": {},
   "outputs": [],
   "source": []
  },
  {
   "cell_type": "code",
   "execution_count": null,
   "id": "0279803d",
   "metadata": {},
   "outputs": [],
   "source": []
  },
  {
   "cell_type": "code",
   "execution_count": 243,
   "id": "10632479",
   "metadata": {},
   "outputs": [
    {
     "data": {
      "text/plain": [
       "datetime.date(2022, 6, 10)"
      ]
     },
     "execution_count": 243,
     "metadata": {},
     "output_type": "execute_result"
    }
   ],
   "source": [
    "graphic.loc[(graphic['Пункт отгрузки']=='ПНОС') & (graphic['Код КССС']==207465), 'Дата_производства'].dt.date.iloc[0]"
   ]
  },
  {
   "cell_type": "code",
   "execution_count": 82,
   "id": "3dbc5989",
   "metadata": {},
   "outputs": [
    {
     "data": {
      "text/html": [
       "<div>\n",
       "<style scoped>\n",
       "    .dataframe tbody tr th:only-of-type {\n",
       "        vertical-align: middle;\n",
       "    }\n",
       "\n",
       "    .dataframe tbody tr th {\n",
       "        vertical-align: top;\n",
       "    }\n",
       "\n",
       "    .dataframe thead th {\n",
       "        text-align: right;\n",
       "    }\n",
       "</style>\n",
       "<table border=\"1\" class=\"dataframe\">\n",
       "  <thead>\n",
       "    <tr style=\"text-align: right;\">\n",
       "      <th></th>\n",
       "      <th>Пункт отгрузки</th>\n",
       "      <th>Код КССС</th>\n",
       "      <th>Дата_производства</th>\n",
       "      <th>Объем_фасовки, т</th>\n",
       "    </tr>\n",
       "  </thead>\n",
       "  <tbody>\n",
       "    <tr>\n",
       "      <th>0</th>\n",
       "      <td>ПНОС</td>\n",
       "      <td>207465</td>\n",
       "      <td>2022-06-10</td>\n",
       "      <td>9.0</td>\n",
       "    </tr>\n",
       "    <tr>\n",
       "      <th>1</th>\n",
       "      <td>ПНОС</td>\n",
       "      <td>207465</td>\n",
       "      <td>2022-06-11</td>\n",
       "      <td>15.0</td>\n",
       "    </tr>\n",
       "  </tbody>\n",
       "</table>\n",
       "</div>"
      ],
      "text/plain": [
       "  Пункт отгрузки  Код КССС Дата_производства  Объем_фасовки, т\n",
       "0           ПНОС    207465        2022-06-10               9.0\n",
       "1           ПНОС    207465        2022-06-11              15.0"
      ]
     },
     "execution_count": 82,
     "metadata": {},
     "output_type": "execute_result"
    }
   ],
   "source": [
    "graphic[(graphic['Пункт отгрузки']=='ПНОС') & (graphic['Код КССС']==207465)]"
   ]
  },
  {
   "cell_type": "code",
   "execution_count": 18,
   "id": "08b512ab",
   "metadata": {},
   "outputs": [],
   "source": [
    "len_of_dates = len(graphic.loc[(graphic['Пункт отгрузки']=='ПНОС') & (graphic['Код КССС']==207465)])"
   ]
  },
  {
   "cell_type": "code",
   "execution_count": 22,
   "id": "2b2c163c",
   "metadata": {},
   "outputs": [
    {
     "data": {
      "text/plain": [
       "9.0"
      ]
     },
     "execution_count": 22,
     "metadata": {},
     "output_type": "execute_result"
    }
   ],
   "source": [
    "graphic.loc[(graphic['Пункт отгрузки']=='ПНОС') & (graphic['Код КССС']==207465), 'Объем_фасовки, т'][0]"
   ]
  },
  {
   "cell_type": "code",
   "execution_count": 23,
   "id": "0b7c8cb3",
   "metadata": {},
   "outputs": [
    {
     "data": {
      "text/plain": [
       "15.0"
      ]
     },
     "execution_count": 23,
     "metadata": {},
     "output_type": "execute_result"
    }
   ],
   "source": [
    "graphic.loc[(graphic['Пункт отгрузки']=='ПНОС') & (graphic['Код КССС']==207465), 'Объем_фасовки, т'][1]"
   ]
  },
  {
   "cell_type": "code",
   "execution_count": 230,
   "id": "6c8dd253",
   "metadata": {},
   "outputs": [
    {
     "data": {
      "text/plain": [
       "0    0.0\n",
       "Name: Объем_фасовки, т, dtype: float64"
      ]
     },
     "execution_count": 230,
     "metadata": {},
     "output_type": "execute_result"
    }
   ],
   "source": [
    "graphic.loc[(graphic['Пункт отгрузки']=='ПНОС') & (graphic['Код КССС']==207465) & (graphic['Дата_производства']=='2022-06-10'), 'Объем_фасовки, т']"
   ]
  },
  {
   "cell_type": "code",
   "execution_count": 268,
   "id": "94876349",
   "metadata": {},
   "outputs": [
    {
     "data": {
      "text/plain": [
       "0    20.0\n",
       "Name: Объем_фасовки, т, dtype: float64"
      ]
     },
     "execution_count": 268,
     "metadata": {},
     "output_type": "execute_result"
    }
   ],
   "source": [
    "graphic.loc[(graphic['Пункт отгрузки']=='ПНОС') & (graphic['Код КССС']==207465) & \n",
    "                        (graphic['Дата_производства']=='2022-06-10'), 'Объем_фасовки, т'] "
   ]
  },
  {
   "cell_type": "code",
   "execution_count": 297,
   "id": "dc576852",
   "metadata": {},
   "outputs": [
    {
     "data": {
      "text/plain": [
       "Timestamp('2022-06-11 00:00:00')"
      ]
     },
     "execution_count": 297,
     "metadata": {},
     "output_type": "execute_result"
    }
   ],
   "source": [
    "graphic.loc[(graphic['Пункт отгрузки']=='ПНОС') & (graphic['Код КССС']==207465) & \n",
    "                                             (graphic['Дата_производства']==graphic.loc[(graphic['Пункт отгрузки']=='ПНОС') & (graphic['Код КССС']==207465), 'Дата_производства'].iloc[1]), 'Дата_производства'].iloc[0]"
   ]
  },
  {
   "cell_type": "code",
   "execution_count": 282,
   "id": "a524a308",
   "metadata": {},
   "outputs": [
    {
     "data": {
      "text/plain": [
       "Timestamp('2022-06-10 00:00:00')"
      ]
     },
     "execution_count": 282,
     "metadata": {},
     "output_type": "execute_result"
    }
   ],
   "source": [
    "graphic.loc[(graphic['Пункт отгрузки']=='ПНОС') & (graphic['Код КССС']==207465), 'Дата_производства'].iloc[0]"
   ]
  },
  {
   "cell_type": "code",
   "execution_count": 355,
   "id": "f94cfd0a",
   "metadata": {},
   "outputs": [],
   "source": [
    "def if_volume_less_than_required(city, code, required_to_make):\n",
    "    print('объем меньше')\n",
    "       # print(graphic.loc[(graphic['Пункт отгрузки']==city) & (graphic['Код КССС']==code)])\n",
    "        ## и если возвращает несколько дат, то\n",
    "    if len(graphic.loc[(graphic['Пункт отгрузки']==city) & (graphic['Код КССС']==code)]) > 1:\n",
    "\n",
    "        ## вводим переменную длины, чтобы не выйти за пределы\n",
    "        len_of_dates = len(graphic.loc[(graphic['Пункт отгрузки']==city) & (graphic['Код КССС']==code)])\n",
    "        ## вводим счетчик для того чтобы присвоить правильную дату\n",
    "        i = 0\n",
    "        ## создаем накопительную переменную \n",
    "        storage_var = graphic.loc[(graphic['Пункт отгрузки']==city) & (graphic['Код КССС']==code), 'Объем_фасовки, т'].iloc[0]\n",
    "\n",
    "\n",
    "        ## пока объем фасовки меньше, чем требуется\n",
    "        while storage_var<required_to_make and len_of_dates>1:\n",
    "            print('в цикле')\n",
    "            len_of_dates-=1\n",
    "            ## переходим к следующей\n",
    "            i+=1\n",
    "            ## и прибавляем к накопительной переменной\n",
    "            storage_var+= graphic.loc[(graphic['Пункт отгрузки']==city) & (graphic['Код КССС']==code), 'Объем_фасовки, т'].iloc[i]\n",
    "             ## и обнуляем в графике объем фасовки\n",
    "            graphic.loc[(graphic['Пункт отгрузки']==city) & (graphic['Код КССС']==code), 'Объем_фасовки, т'].iloc[i]\n",
    "            print('storage fresh, ', storage_var)\n",
    "            print('required fresh, ' , required_to_make) \n",
    "\n",
    "            ## возьмем дату следующего производства\n",
    "            data_of_making = graphic.loc[(graphic['Пункт отгрузки']==city) & (graphic['Код КССС']==code) & \n",
    "                                         (graphic['Дата_производства']==graphic.loc[(graphic['Пункт отгрузки']==city) \n",
    "                                                                                    & (graphic['Код КССС']==code), 'Дата_производства'].iloc[i]),\n",
    "                                         'Дата_производства'].iloc[0]\n",
    "\n",
    "\n",
    "            print('обнуляем')\n",
    "            graphic.loc[(graphic['Пункт отгрузки']==city) & (graphic['Код КССС']==code), 'Объем_фасовки, т'] = 0\n",
    "\n",
    "        print('data making', data_of_making)    \n",
    "        ## вычитаем\n",
    "        graphic.loc[(graphic['Пункт отгрузки']==city) & (graphic['Код КССС']==code) & \n",
    "                    (graphic['Дата_производства']==data_of_making), 'Объем_фасовки, т'] = storage_var-required_to_make\n",
    "\n",
    "\n",
    "        ## по окончанию цикла возвращает тот i который требуется    \n",
    "        data = graphic[(graphic['Пункт отгрузки']==city) & (graphic['Код КССС']==code)]['Дата_производства'].dt.date.iloc[i] \n",
    "        print(graphic)\n",
    "        return data"
   ]
  },
  {
   "cell_type": "code",
   "execution_count": 356,
   "id": "22b41931",
   "metadata": {},
   "outputs": [],
   "source": [
    "def data_shipment(city, code, required_to_make):\n",
    "    ## проверяем есть ли вообще в списке graphic\n",
    "    if graphic[(graphic['Пункт отгрузки']==city) & (graphic['Код КССС']==code)].empty:\n",
    "        return '-'\n",
    "    ## если в таблице orders не требуется, то мы ставим черточку\n",
    "    elif required_to_make == 0:\n",
    "        return '-'\n",
    "    ## иначе если есть и объема в графике достаточно, то мы    \n",
    "    elif graphic.loc[(graphic['Пункт отгрузки']==city) & (graphic['Код КССС']==code), 'Объем_фасовки, т'].iloc[0] >= required_to_make:   \n",
    "        print('Объем больше')\n",
    "        print('graphic: ', graphic)\n",
    "        ## вычитаем из объема\n",
    "        ## добавить определенное дату, так как будет удалять все значения где код и пункт совпадаем\n",
    "        data_of_making = graphic.loc[(graphic['Пункт отгрузки']==city) & (graphic['Код КССС']==code) & \n",
    "                                    (graphic['Дата_производства']==graphic.loc[(graphic['Пункт отгрузки']==city) \n",
    "                                    & (graphic['Код КССС']==code), 'Дата_производства'].iloc[0]),'Дата_производства'].iloc[0]\n",
    "        graphic.loc[(graphic['Пункт отгрузки']==city) & (graphic['Код КССС']==code) & (graphic['Дата_производства']==data_of_making),\n",
    "                    'Объем_фасовки, т'] -= required_to_make\n",
    "        # и возвращаем дату\n",
    "        data = graphic[(graphic['Пункт отгрузки']==city) & (graphic['Код КССС']==code)]['Дата_производства'].dt.date.iloc[0]\n",
    "        return data\n",
    "    ## иначе если недостаточно объема чем требуется ...\n",
    "    else:\n",
    "        if_volume_less_than_required(city, code, required_to_make)\n",
    "        \n",
    "        ## иначе если возвращается только одна дата, то мы должны обнулить ее и присвоить дату\n",
    "        graphic.loc[(graphic['Пункт отгрузки']==city) & (graphic['Код КССС']==code), 'Объем_фасовки, т'] = 0\n",
    "        print(graphic)\n",
    "        return graphic[(graphic['Пункт отгрузки']==city) & (graphic['Код КССС']==code)]['Дата_производства'].dt.date.iloc[0] \n",
    "        \n"
   ]
  },
  {
   "cell_type": "code",
   "execution_count": 357,
   "id": "5009b647",
   "metadata": {
    "scrolled": true
   },
   "outputs": [
    {
     "name": "stdout",
     "output_type": "stream",
     "text": [
      "объем меньше\n",
      "в цикле\n",
      "storage fresh,  24.0\n",
      "required fresh,  11\n",
      "обнуляем\n",
      "data making 2022-06-11 00:00:00\n",
      "  Пункт отгрузки  Код КССС Дата_производства  Объем_фасовки, т\n",
      "0           ПНОС    207465        2022-06-10              0.00\n",
      "1           ПНОС    207465        2022-06-11             13.00\n",
      "2           ПНОС    207464        2022-06-12             18.00\n",
      "3            ВНП   3149286        2022-06-15             15.00\n",
      "4            ВНП    196256        2022-06-15              1.33\n",
      "5            ВНП    207465        2022-06-15             14.00\n",
      "6         Тюмень   3148630        2022-06-11              5.00\n",
      "7         Тюмень   3149286        2022-06-11             10.00\n",
      "8         Тюмень    196256        2022-06-10              3.00\n",
      "  Пункт отгрузки  Код КССС Дата_производства  Объем_фасовки, т\n",
      "0           ПНОС    207465        2022-06-10              0.00\n",
      "1           ПНОС    207465        2022-06-11              0.00\n",
      "2           ПНОС    207464        2022-06-12             18.00\n",
      "3            ВНП   3149286        2022-06-15             15.00\n",
      "4            ВНП    196256        2022-06-15              1.33\n",
      "5            ВНП    207465        2022-06-15             14.00\n",
      "6         Тюмень   3148630        2022-06-11              5.00\n",
      "7         Тюмень   3149286        2022-06-11             10.00\n",
      "8         Тюмень    196256        2022-06-10              3.00\n",
      "объем меньше\n",
      "  Пункт отгрузки  Код КССС Дата_производства  Объем_фасовки, т\n",
      "0           ПНОС    207465        2022-06-10              0.00\n",
      "1           ПНОС    207465        2022-06-11              0.00\n",
      "2           ПНОС    207464        2022-06-12              0.00\n",
      "3            ВНП   3149286        2022-06-15             15.00\n",
      "4            ВНП    196256        2022-06-15              1.33\n",
      "5            ВНП    207465        2022-06-15             14.00\n",
      "6         Тюмень   3148630        2022-06-11              5.00\n",
      "7         Тюмень   3149286        2022-06-11             10.00\n",
      "8         Тюмень    196256        2022-06-10              3.00\n",
      "объем меньше\n",
      "в цикле\n",
      "storage fresh,  0.0\n",
      "required fresh,  4\n",
      "обнуляем\n",
      "data making 2022-06-11 00:00:00\n",
      "  Пункт отгрузки  Код КССС Дата_производства  Объем_фасовки, т\n",
      "0           ПНОС    207465        2022-06-10              0.00\n",
      "1           ПНОС    207465        2022-06-11             -4.00\n",
      "2           ПНОС    207464        2022-06-12              0.00\n",
      "3            ВНП   3149286        2022-06-15             15.00\n",
      "4            ВНП    196256        2022-06-15              1.33\n",
      "5            ВНП    207465        2022-06-15             14.00\n",
      "6         Тюмень   3148630        2022-06-11              5.00\n",
      "7         Тюмень   3149286        2022-06-11             10.00\n",
      "8         Тюмень    196256        2022-06-10              3.00\n",
      "  Пункт отгрузки  Код КССС Дата_производства  Объем_фасовки, т\n",
      "0           ПНОС    207465        2022-06-10              0.00\n",
      "1           ПНОС    207465        2022-06-11              0.00\n",
      "2           ПНОС    207464        2022-06-12              0.00\n",
      "3            ВНП   3149286        2022-06-15             15.00\n",
      "4            ВНП    196256        2022-06-15              1.33\n",
      "5            ВНП    207465        2022-06-15             14.00\n",
      "6         Тюмень   3148630        2022-06-11              5.00\n",
      "7         Тюмень   3149286        2022-06-11             10.00\n",
      "8         Тюмень    196256        2022-06-10              3.00\n",
      "Объем больше\n",
      "graphic:    Пункт отгрузки  Код КССС Дата_производства  Объем_фасовки, т\n",
      "0           ПНОС    207465        2022-06-10              0.00\n",
      "1           ПНОС    207465        2022-06-11              0.00\n",
      "2           ПНОС    207464        2022-06-12              0.00\n",
      "3            ВНП   3149286        2022-06-15             15.00\n",
      "4            ВНП    196256        2022-06-15              1.33\n",
      "5            ВНП    207465        2022-06-15             14.00\n",
      "6         Тюмень   3148630        2022-06-11              5.00\n",
      "7         Тюмень   3149286        2022-06-11             10.00\n",
      "8         Тюмень    196256        2022-06-10              3.00\n",
      "объем меньше\n",
      "  Пункт отгрузки  Код КССС Дата_производства  Объем_фасовки, т\n",
      "0           ПНОС    207465        2022-06-10               0.0\n",
      "1           ПНОС    207465        2022-06-11               0.0\n",
      "2           ПНОС    207464        2022-06-12               0.0\n",
      "3            ВНП   3149286        2022-06-15              14.0\n",
      "4            ВНП    196256        2022-06-15               0.0\n",
      "5            ВНП    207465        2022-06-15              14.0\n",
      "6         Тюмень   3148630        2022-06-11               5.0\n",
      "7         Тюмень   3149286        2022-06-11              10.0\n",
      "8         Тюмень    196256        2022-06-10               3.0\n",
      "объем меньше\n",
      "  Пункт отгрузки  Код КССС Дата_производства  Объем_фасовки, т\n",
      "0           ПНОС    207465        2022-06-10               0.0\n",
      "1           ПНОС    207465        2022-06-11               0.0\n",
      "2           ПНОС    207464        2022-06-12               0.0\n",
      "3            ВНП   3149286        2022-06-15              14.0\n",
      "4            ВНП    196256        2022-06-15               0.0\n",
      "5            ВНП    207465        2022-06-15              14.0\n",
      "6         Тюмень   3148630        2022-06-11               0.0\n",
      "7         Тюмень   3149286        2022-06-11              10.0\n",
      "8         Тюмень    196256        2022-06-10               3.0\n",
      "Объем больше\n",
      "graphic:    Пункт отгрузки  Код КССС Дата_производства  Объем_фасовки, т\n",
      "0           ПНОС    207465        2022-06-10               0.0\n",
      "1           ПНОС    207465        2022-06-11               0.0\n",
      "2           ПНОС    207464        2022-06-12               0.0\n",
      "3            ВНП   3149286        2022-06-15              14.0\n",
      "4            ВНП    196256        2022-06-15               0.0\n",
      "5            ВНП    207465        2022-06-15              14.0\n",
      "6         Тюмень   3148630        2022-06-11               0.0\n",
      "7         Тюмень   3149286        2022-06-11              10.0\n",
      "8         Тюмень    196256        2022-06-10               3.0\n",
      "объем меньше\n",
      "  Пункт отгрузки  Код КССС Дата_производства  Объем_фасовки, т\n",
      "0           ПНОС    207465        2022-06-10               0.0\n",
      "1           ПНОС    207465        2022-06-11               0.0\n",
      "2           ПНОС    207464        2022-06-12               0.0\n",
      "3            ВНП   3149286        2022-06-15              14.0\n",
      "4            ВНП    196256        2022-06-15               0.0\n",
      "5            ВНП    207465        2022-06-15              14.0\n",
      "6         Тюмень   3148630        2022-06-11               0.0\n",
      "7         Тюмень   3149286        2022-06-11               2.0\n",
      "8         Тюмень    196256        2022-06-10               0.0\n"
     ]
    }
   ],
   "source": [
    "orders['дата производства'] = orders.apply(lambda x: data_shipment(x['Пункт отгрузки'], x['КССС мат'], x['осталось произвести, тн']), axis=1)"
   ]
  },
  {
   "cell_type": "code",
   "execution_count": 358,
   "id": "b398096c",
   "metadata": {},
   "outputs": [
    {
     "data": {
      "text/html": [
       "<div>\n",
       "<style scoped>\n",
       "    .dataframe tbody tr th:only-of-type {\n",
       "        vertical-align: middle;\n",
       "    }\n",
       "\n",
       "    .dataframe tbody tr th {\n",
       "        vertical-align: top;\n",
       "    }\n",
       "\n",
       "    .dataframe thead th {\n",
       "        text-align: right;\n",
       "    }\n",
       "</style>\n",
       "<table border=\"1\" class=\"dataframe\">\n",
       "  <thead>\n",
       "    <tr style=\"text-align: right;\">\n",
       "      <th></th>\n",
       "      <th>КССС мат</th>\n",
       "      <th>Пункт отгрузки</th>\n",
       "      <th>осталось произвести, тн</th>\n",
       "      <th>дата производства</th>\n",
       "    </tr>\n",
       "  </thead>\n",
       "  <tbody>\n",
       "    <tr>\n",
       "      <th>0</th>\n",
       "      <td>207465</td>\n",
       "      <td>ПНОС</td>\n",
       "      <td>11</td>\n",
       "      <td>2022-06-10</td>\n",
       "    </tr>\n",
       "    <tr>\n",
       "      <th>1</th>\n",
       "      <td>207464</td>\n",
       "      <td>ПНОС</td>\n",
       "      <td>20</td>\n",
       "      <td>2022-06-12</td>\n",
       "    </tr>\n",
       "    <tr>\n",
       "      <th>2</th>\n",
       "      <td>207465</td>\n",
       "      <td>ПНОС</td>\n",
       "      <td>4</td>\n",
       "      <td>2022-06-10</td>\n",
       "    </tr>\n",
       "    <tr>\n",
       "      <th>3</th>\n",
       "      <td>3149286</td>\n",
       "      <td>ВНП</td>\n",
       "      <td>1</td>\n",
       "      <td>2022-06-15</td>\n",
       "    </tr>\n",
       "    <tr>\n",
       "      <th>4</th>\n",
       "      <td>196256</td>\n",
       "      <td>ВНП</td>\n",
       "      <td>2</td>\n",
       "      <td>2022-06-15</td>\n",
       "    </tr>\n",
       "    <tr>\n",
       "      <th>5</th>\n",
       "      <td>207465</td>\n",
       "      <td>ВНП</td>\n",
       "      <td>0</td>\n",
       "      <td>-</td>\n",
       "    </tr>\n",
       "    <tr>\n",
       "      <th>6</th>\n",
       "      <td>3148630</td>\n",
       "      <td>Тюмень</td>\n",
       "      <td>6</td>\n",
       "      <td>2022-06-11</td>\n",
       "    </tr>\n",
       "    <tr>\n",
       "      <th>7</th>\n",
       "      <td>3149286</td>\n",
       "      <td>Тюмень</td>\n",
       "      <td>8</td>\n",
       "      <td>2022-06-11</td>\n",
       "    </tr>\n",
       "    <tr>\n",
       "      <th>8</th>\n",
       "      <td>196256</td>\n",
       "      <td>Тюмень</td>\n",
       "      <td>9</td>\n",
       "      <td>2022-06-10</td>\n",
       "    </tr>\n",
       "  </tbody>\n",
       "</table>\n",
       "</div>"
      ],
      "text/plain": [
       "   КССС мат Пункт отгрузки  осталось произвести, тн дата производства\n",
       "0    207465           ПНОС                       11        2022-06-10\n",
       "1    207464           ПНОС                       20        2022-06-12\n",
       "2    207465           ПНОС                        4        2022-06-10\n",
       "3   3149286            ВНП                        1        2022-06-15\n",
       "4    196256            ВНП                        2        2022-06-15\n",
       "5    207465            ВНП                        0                 -\n",
       "6   3148630         Тюмень                        6        2022-06-11\n",
       "7   3149286         Тюмень                        8        2022-06-11\n",
       "8    196256         Тюмень                        9        2022-06-10"
      ]
     },
     "execution_count": 358,
     "metadata": {},
     "output_type": "execute_result"
    }
   ],
   "source": [
    "orders"
   ]
  },
  {
   "cell_type": "code",
   "execution_count": 359,
   "id": "01452e51",
   "metadata": {},
   "outputs": [
    {
     "data": {
      "text/html": [
       "<div>\n",
       "<style scoped>\n",
       "    .dataframe tbody tr th:only-of-type {\n",
       "        vertical-align: middle;\n",
       "    }\n",
       "\n",
       "    .dataframe tbody tr th {\n",
       "        vertical-align: top;\n",
       "    }\n",
       "\n",
       "    .dataframe thead th {\n",
       "        text-align: right;\n",
       "    }\n",
       "</style>\n",
       "<table border=\"1\" class=\"dataframe\">\n",
       "  <thead>\n",
       "    <tr style=\"text-align: right;\">\n",
       "      <th></th>\n",
       "      <th>Пункт отгрузки</th>\n",
       "      <th>Код КССС</th>\n",
       "      <th>Дата_производства</th>\n",
       "      <th>Объем_фасовки, т</th>\n",
       "    </tr>\n",
       "  </thead>\n",
       "  <tbody>\n",
       "    <tr>\n",
       "      <th>0</th>\n",
       "      <td>ПНОС</td>\n",
       "      <td>207465</td>\n",
       "      <td>2022-06-10</td>\n",
       "      <td>0.0</td>\n",
       "    </tr>\n",
       "    <tr>\n",
       "      <th>1</th>\n",
       "      <td>ПНОС</td>\n",
       "      <td>207465</td>\n",
       "      <td>2022-06-11</td>\n",
       "      <td>0.0</td>\n",
       "    </tr>\n",
       "    <tr>\n",
       "      <th>2</th>\n",
       "      <td>ПНОС</td>\n",
       "      <td>207464</td>\n",
       "      <td>2022-06-12</td>\n",
       "      <td>0.0</td>\n",
       "    </tr>\n",
       "    <tr>\n",
       "      <th>3</th>\n",
       "      <td>ВНП</td>\n",
       "      <td>3149286</td>\n",
       "      <td>2022-06-15</td>\n",
       "      <td>14.0</td>\n",
       "    </tr>\n",
       "    <tr>\n",
       "      <th>4</th>\n",
       "      <td>ВНП</td>\n",
       "      <td>196256</td>\n",
       "      <td>2022-06-15</td>\n",
       "      <td>0.0</td>\n",
       "    </tr>\n",
       "    <tr>\n",
       "      <th>5</th>\n",
       "      <td>ВНП</td>\n",
       "      <td>207465</td>\n",
       "      <td>2022-06-15</td>\n",
       "      <td>14.0</td>\n",
       "    </tr>\n",
       "    <tr>\n",
       "      <th>6</th>\n",
       "      <td>Тюмень</td>\n",
       "      <td>3148630</td>\n",
       "      <td>2022-06-11</td>\n",
       "      <td>0.0</td>\n",
       "    </tr>\n",
       "    <tr>\n",
       "      <th>7</th>\n",
       "      <td>Тюмень</td>\n",
       "      <td>3149286</td>\n",
       "      <td>2022-06-11</td>\n",
       "      <td>2.0</td>\n",
       "    </tr>\n",
       "    <tr>\n",
       "      <th>8</th>\n",
       "      <td>Тюмень</td>\n",
       "      <td>196256</td>\n",
       "      <td>2022-06-10</td>\n",
       "      <td>0.0</td>\n",
       "    </tr>\n",
       "  </tbody>\n",
       "</table>\n",
       "</div>"
      ],
      "text/plain": [
       "  Пункт отгрузки  Код КССС Дата_производства  Объем_фасовки, т\n",
       "0           ПНОС    207465        2022-06-10               0.0\n",
       "1           ПНОС    207465        2022-06-11               0.0\n",
       "2           ПНОС    207464        2022-06-12               0.0\n",
       "3            ВНП   3149286        2022-06-15              14.0\n",
       "4            ВНП    196256        2022-06-15               0.0\n",
       "5            ВНП    207465        2022-06-15              14.0\n",
       "6         Тюмень   3148630        2022-06-11               0.0\n",
       "7         Тюмень   3149286        2022-06-11               2.0\n",
       "8         Тюмень    196256        2022-06-10               0.0"
      ]
     },
     "execution_count": 359,
     "metadata": {},
     "output_type": "execute_result"
    }
   ],
   "source": [
    "graphic"
   ]
  },
  {
   "cell_type": "code",
   "execution_count": 65,
   "id": "c11f0155",
   "metadata": {},
   "outputs": [
    {
     "data": {
      "text/plain": [
       "0     9.0\n",
       "1    15.0\n",
       "Name: Объем_фасовки, т, dtype: float64"
      ]
     },
     "execution_count": 65,
     "metadata": {},
     "output_type": "execute_result"
    }
   ],
   "source": [
    "graphic.loc[(graphic['Пункт отгрузки']=='ПНОС') & (graphic['Код КССС']==207465), 'Объем_фасовки, т']"
   ]
  },
  {
   "cell_type": "code",
   "execution_count": 66,
   "id": "aaf342a0",
   "metadata": {},
   "outputs": [
    {
     "data": {
      "text/plain": [
       "3    15.0\n",
       "Name: Объем_фасовки, т, dtype: float64"
      ]
     },
     "execution_count": 66,
     "metadata": {},
     "output_type": "execute_result"
    }
   ],
   "source": [
    "graphic.loc[(graphic['Пункт отгрузки']=='ВНП') & (graphic['Код КССС']==3149286), 'Объем_фасовки, т'].iloc[0]"
   ]
  },
  {
   "cell_type": "code",
   "execution_count": 37,
   "id": "b9a5c9c3",
   "metadata": {},
   "outputs": [
    {
     "data": {
      "text/plain": [
       "True"
      ]
     },
     "execution_count": 37,
     "metadata": {},
     "output_type": "execute_result"
    }
   ],
   "source": [
    "graphic[(graphic['Пункт отгрузки']==\"ПНОС\") & (graphic['Код КССС']==20746)].empty"
   ]
  },
  {
   "cell_type": "code",
   "execution_count": 127,
   "id": "7900f329",
   "metadata": {},
   "outputs": [
    {
     "data": {
      "text/html": [
       "<div>\n",
       "<style scoped>\n",
       "    .dataframe tbody tr th:only-of-type {\n",
       "        vertical-align: middle;\n",
       "    }\n",
       "\n",
       "    .dataframe tbody tr th {\n",
       "        vertical-align: top;\n",
       "    }\n",
       "\n",
       "    .dataframe thead th {\n",
       "        text-align: right;\n",
       "    }\n",
       "</style>\n",
       "<table border=\"1\" class=\"dataframe\">\n",
       "  <thead>\n",
       "    <tr style=\"text-align: right;\">\n",
       "      <th></th>\n",
       "      <th>Код КССС</th>\n",
       "      <th>Пункт отгрузки</th>\n",
       "      <th>осталось произвести, тн</th>\n",
       "      <th>Дата_производства</th>\n",
       "      <th>Объем_фасовки, т</th>\n",
       "    </tr>\n",
       "  </thead>\n",
       "  <tbody>\n",
       "    <tr>\n",
       "      <th>0</th>\n",
       "      <td>1779443</td>\n",
       "      <td>ВНП</td>\n",
       "      <td>10</td>\n",
       "      <td>2022-06-11</td>\n",
       "      <td>8</td>\n",
       "    </tr>\n",
       "    <tr>\n",
       "      <th>1</th>\n",
       "      <td>1779443</td>\n",
       "      <td>ВНП</td>\n",
       "      <td>10</td>\n",
       "      <td>2022-06-12</td>\n",
       "      <td>5</td>\n",
       "    </tr>\n",
       "    <tr>\n",
       "      <th>2</th>\n",
       "      <td>1779443</td>\n",
       "      <td>ВНП</td>\n",
       "      <td>10</td>\n",
       "      <td>2022-06-13</td>\n",
       "      <td>3</td>\n",
       "    </tr>\n",
       "  </tbody>\n",
       "</table>\n",
       "</div>"
      ],
      "text/plain": [
       "   Код КССС Пункт отгрузки  осталось произвести, тн Дата_производства  \\\n",
       "0   1779443            ВНП                       10        2022-06-11   \n",
       "1   1779443            ВНП                       10        2022-06-12   \n",
       "2   1779443            ВНП                       10        2022-06-13   \n",
       "\n",
       "   Объем_фасовки, т  \n",
       "0                 8  \n",
       "1                 5  \n",
       "2                 3  "
      ]
     },
     "execution_count": 127,
     "metadata": {},
     "output_type": "execute_result"
    }
   ],
   "source": [
    "merge_orders = orders.merge(graphic, on=['Пункт отгрузки', 'Код КССС'], how='inner')\n",
    "merge_orders"
   ]
  },
  {
   "cell_type": "code",
   "execution_count": 113,
   "id": "148a14dc",
   "metadata": {},
   "outputs": [
    {
     "data": {
      "text/plain": [
       "0    10\n",
       "1    10\n",
       "2    10\n",
       "Name: осталось произвести, тн, dtype: int64"
      ]
     },
     "execution_count": 113,
     "metadata": {},
     "output_type": "execute_result"
    }
   ],
   "source": [
    "merge_orders['осталось произвести, тн']"
   ]
  },
  {
   "cell_type": "code",
   "execution_count": 123,
   "id": "545851a8",
   "metadata": {},
   "outputs": [],
   "source": [
    "def data_distr(residuals):    \n",
    "#если осталось произвести меньше или равно, то смотрим следующую строку\n",
    "    if merge_orders['осталось произвести, тн'] <= merge_orders['Объем_фасовки, т']:\n",
    "        #проверяем тот же ли код и пункт отгрузки, иначе возвращает предыдущую дату\n",
    "        return 10\n",
    "        \n"
   ]
  },
  {
   "cell_type": "code",
   "execution_count": 129,
   "id": "11569efd",
   "metadata": {},
   "outputs": [
    {
     "data": {
      "text/plain": [
       "0    1779443\n",
       "1    1779443\n",
       "2    1779443\n",
       "dtype: int64"
      ]
     },
     "execution_count": 129,
     "metadata": {},
     "output_type": "execute_result"
    }
   ],
   "source": [
    "merge_orders.apply(lambda x: x['Код КССС'],x['Пункт отгрузки'],x['осталось произвести, тн']\n",
    "                   x['Дата_производства'],x['Объем_фасовки, т'], axis=1)"
   ]
  },
  {
   "cell_type": "code",
   "execution_count": 75,
   "id": "8e95b751",
   "metadata": {},
   "outputs": [],
   "source": [
    "# merge_orders['difference'] = merge_orders['осталось произвести, тн'] - merge_orders['Объем_фасовки, т']\n",
    "# merge_orders"
   ]
  },
  {
   "cell_type": "code",
   "execution_count": 79,
   "id": "e978772f",
   "metadata": {},
   "outputs": [],
   "source": [
    "merge_orders = merge_orders.set_index(['Пункт отгрузки','Код КССС'])"
   ]
  },
  {
   "cell_type": "code",
   "execution_count": 82,
   "id": "e5ed70df",
   "metadata": {},
   "outputs": [
    {
     "data": {
      "text/plain": [
       "осталось произвести, тн                     10\n",
       "Дата_производства          2022-06-12 00:00:00\n",
       "Объем_фасовки, т                             5\n",
       "Name: (ВНП, 1779443), dtype: object"
      ]
     },
     "execution_count": 82,
     "metadata": {},
     "output_type": "execute_result"
    }
   ],
   "source": [
    "merge_orders.iloc[1]"
   ]
  },
  {
   "cell_type": "code",
   "execution_count": 80,
   "id": "abbfe5a5",
   "metadata": {},
   "outputs": [
    {
     "data": {
      "text/html": [
       "<div>\n",
       "<style scoped>\n",
       "    .dataframe tbody tr th:only-of-type {\n",
       "        vertical-align: middle;\n",
       "    }\n",
       "\n",
       "    .dataframe tbody tr th {\n",
       "        vertical-align: top;\n",
       "    }\n",
       "\n",
       "    .dataframe thead th {\n",
       "        text-align: right;\n",
       "    }\n",
       "</style>\n",
       "<table border=\"1\" class=\"dataframe\">\n",
       "  <thead>\n",
       "    <tr style=\"text-align: right;\">\n",
       "      <th></th>\n",
       "      <th></th>\n",
       "      <th>осталось произвести, тн</th>\n",
       "      <th>Дата_производства</th>\n",
       "      <th>Объем_фасовки, т</th>\n",
       "    </tr>\n",
       "    <tr>\n",
       "      <th>Пункт отгрузки</th>\n",
       "      <th>Код КССС</th>\n",
       "      <th></th>\n",
       "      <th></th>\n",
       "      <th></th>\n",
       "    </tr>\n",
       "  </thead>\n",
       "  <tbody>\n",
       "    <tr>\n",
       "      <th rowspan=\"3\" valign=\"top\">ВНП</th>\n",
       "      <th>1779443</th>\n",
       "      <td>10</td>\n",
       "      <td>2022-06-11</td>\n",
       "      <td>8</td>\n",
       "    </tr>\n",
       "    <tr>\n",
       "      <th>1779443</th>\n",
       "      <td>10</td>\n",
       "      <td>2022-06-12</td>\n",
       "      <td>5</td>\n",
       "    </tr>\n",
       "    <tr>\n",
       "      <th>1779443</th>\n",
       "      <td>10</td>\n",
       "      <td>2022-06-13</td>\n",
       "      <td>3</td>\n",
       "    </tr>\n",
       "  </tbody>\n",
       "</table>\n",
       "</div>"
      ],
      "text/plain": [
       "                         осталось произвести, тн Дата_производства  \\\n",
       "Пункт отгрузки Код КССС                                              \n",
       "ВНП            1779443                        10        2022-06-11   \n",
       "               1779443                        10        2022-06-12   \n",
       "               1779443                        10        2022-06-13   \n",
       "\n",
       "                         Объем_фасовки, т  \n",
       "Пункт отгрузки Код КССС                    \n",
       "ВНП            1779443                  8  \n",
       "               1779443                  5  \n",
       "               1779443                  3  "
      ]
     },
     "execution_count": 80,
     "metadata": {},
     "output_type": "execute_result"
    }
   ],
   "source": [
    "merge_orders"
   ]
  },
  {
   "cell_type": "code",
   "execution_count": null,
   "id": "48cc15bb",
   "metadata": {},
   "outputs": [],
   "source": []
  }
 ],
 "metadata": {
  "kernelspec": {
   "display_name": "Python 3 (ipykernel)",
   "language": "python",
   "name": "python3"
  },
  "language_info": {
   "codemirror_mode": {
    "name": "ipython",
    "version": 3
   },
   "file_extension": ".py",
   "mimetype": "text/x-python",
   "name": "python",
   "nbconvert_exporter": "python",
   "pygments_lexer": "ipython3",
   "version": "3.9.12"
  }
 },
 "nbformat": 4,
 "nbformat_minor": 5
}
