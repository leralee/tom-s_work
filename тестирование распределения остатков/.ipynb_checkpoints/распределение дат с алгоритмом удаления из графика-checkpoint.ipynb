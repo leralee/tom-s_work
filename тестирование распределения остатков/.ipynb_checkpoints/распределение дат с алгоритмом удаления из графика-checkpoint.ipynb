{
 "cells": [
  {
   "cell_type": "code",
   "execution_count": 659,
   "id": "dc359fe1",
   "metadata": {},
   "outputs": [],
   "source": [
    "import pandas as pd"
   ]
  },
  {
   "cell_type": "code",
   "execution_count": 660,
   "id": "9f62166e",
   "metadata": {},
   "outputs": [],
   "source": [
    "orders = pd.read_excel('orders-test.xlsx')\n",
    "graphic = pd.read_excel('graphic-test.xlsx')"
   ]
  },
  {
   "cell_type": "code",
   "execution_count": 661,
   "id": "307c8ff4",
   "metadata": {},
   "outputs": [
    {
     "data": {
      "text/html": [
       "<div>\n",
       "<style scoped>\n",
       "    .dataframe tbody tr th:only-of-type {\n",
       "        vertical-align: middle;\n",
       "    }\n",
       "\n",
       "    .dataframe tbody tr th {\n",
       "        vertical-align: top;\n",
       "    }\n",
       "\n",
       "    .dataframe thead th {\n",
       "        text-align: right;\n",
       "    }\n",
       "</style>\n",
       "<table border=\"1\" class=\"dataframe\">\n",
       "  <thead>\n",
       "    <tr style=\"text-align: right;\">\n",
       "      <th></th>\n",
       "      <th>КССС мат</th>\n",
       "      <th>Пункт отгрузки</th>\n",
       "      <th>осталось произвести, тн</th>\n",
       "    </tr>\n",
       "  </thead>\n",
       "  <tbody>\n",
       "    <tr>\n",
       "      <th>0</th>\n",
       "      <td>1779443</td>\n",
       "      <td>ВНП</td>\n",
       "      <td>8</td>\n",
       "    </tr>\n",
       "  </tbody>\n",
       "</table>\n",
       "</div>"
      ],
      "text/plain": [
       "   КССС мат Пункт отгрузки  осталось произвести, тн\n",
       "0   1779443            ВНП                        8"
      ]
     },
     "execution_count": 661,
     "metadata": {},
     "output_type": "execute_result"
    }
   ],
   "source": [
    "orders"
   ]
  },
  {
   "cell_type": "code",
   "execution_count": 662,
   "id": "092cfbd6",
   "metadata": {},
   "outputs": [
    {
     "data": {
      "text/html": [
       "<div>\n",
       "<style scoped>\n",
       "    .dataframe tbody tr th:only-of-type {\n",
       "        vertical-align: middle;\n",
       "    }\n",
       "\n",
       "    .dataframe tbody tr th {\n",
       "        vertical-align: top;\n",
       "    }\n",
       "\n",
       "    .dataframe thead th {\n",
       "        text-align: right;\n",
       "    }\n",
       "</style>\n",
       "<table border=\"1\" class=\"dataframe\">\n",
       "  <thead>\n",
       "    <tr style=\"text-align: right;\">\n",
       "      <th></th>\n",
       "      <th>Пункт отгрузки</th>\n",
       "      <th>Код КССС</th>\n",
       "      <th>Дата_производства</th>\n",
       "      <th>Объем_фасовки, т</th>\n",
       "    </tr>\n",
       "  </thead>\n",
       "  <tbody>\n",
       "    <tr>\n",
       "      <th>0</th>\n",
       "      <td>ВНП</td>\n",
       "      <td>1779443</td>\n",
       "      <td>2022-06-11</td>\n",
       "      <td>1</td>\n",
       "    </tr>\n",
       "    <tr>\n",
       "      <th>1</th>\n",
       "      <td>ВНП</td>\n",
       "      <td>1779443</td>\n",
       "      <td>2022-06-12</td>\n",
       "      <td>2</td>\n",
       "    </tr>\n",
       "    <tr>\n",
       "      <th>2</th>\n",
       "      <td>ВНП</td>\n",
       "      <td>1779443</td>\n",
       "      <td>2022-06-13</td>\n",
       "      <td>1</td>\n",
       "    </tr>\n",
       "    <tr>\n",
       "      <th>3</th>\n",
       "      <td>ВНП</td>\n",
       "      <td>1779443</td>\n",
       "      <td>2022-06-14</td>\n",
       "      <td>3</td>\n",
       "    </tr>\n",
       "  </tbody>\n",
       "</table>\n",
       "</div>"
      ],
      "text/plain": [
       "  Пункт отгрузки  Код КССС Дата_производства  Объем_фасовки, т\n",
       "0            ВНП   1779443        2022-06-11                 1\n",
       "1            ВНП   1779443        2022-06-12                 2\n",
       "2            ВНП   1779443        2022-06-13                 1\n",
       "3            ВНП   1779443        2022-06-14                 3"
      ]
     },
     "execution_count": 662,
     "metadata": {},
     "output_type": "execute_result"
    }
   ],
   "source": [
    "graphic"
   ]
  },
  {
   "cell_type": "code",
   "execution_count": 663,
   "id": "9808f88f",
   "metadata": {},
   "outputs": [],
   "source": [
    "#graphic.drop(graphic[(graphic['Пункт отгрузки']=='ВНП') & (graphic['Код КССС']==1779443) & \n",
    "                           # (graphic['Дата_производства']=='2022-06-11')].index, inplace=True)"
   ]
  },
  {
   "cell_type": "code",
   "execution_count": 664,
   "id": "9e93b84b",
   "metadata": {},
   "outputs": [],
   "source": [
    "#graphic.loc[(graphic['Пункт отгрузки']=='ВНП') & (graphic['Код КССС']==1779443) & \n",
    "                          #  (graphic['Дата_производства']=='2022-06-11'), 'Объем_фасовки, т'] = 4"
   ]
  },
  {
   "cell_type": "code",
   "execution_count": 665,
   "id": "3dbc5989",
   "metadata": {},
   "outputs": [],
   "source": [
    "#graphic[(graphic['Пункт отгрузки']=='ПНОС') & (graphic['Код КССС']==207465)]"
   ]
  },
  {
   "cell_type": "code",
   "execution_count": 666,
   "id": "08b512ab",
   "metadata": {},
   "outputs": [],
   "source": [
    "#len_of_dates = len(graphic.loc[(graphic['Пункт отгрузки']=='ПНОС') & (graphic['Код КССС']==207465)])"
   ]
  },
  {
   "cell_type": "code",
   "execution_count": 667,
   "id": "6c8dd253",
   "metadata": {},
   "outputs": [],
   "source": [
    "#graphic.loc[(graphic['Пункт отгрузки']=='ПНОС') & (graphic['Код КССС']==207465) & (graphic['Дата_производства']=='2022-06-10'), 'Объем_фасовки, т']"
   ]
  },
  {
   "cell_type": "code",
   "execution_count": 668,
   "id": "94876349",
   "metadata": {},
   "outputs": [],
   "source": [
    "#graphic.loc[(graphic['Пункт отгрузки']=='ПНОС') & (graphic['Код КССС']==207465) & \n",
    "#                        (graphic['Дата_производства']=='2022-06-10'), 'Объем_фасовки, т'] "
   ]
  },
  {
   "cell_type": "code",
   "execution_count": 669,
   "id": "a524a308",
   "metadata": {
    "scrolled": true
   },
   "outputs": [],
   "source": [
    "#graphic.loc[(graphic['Пункт отгрузки']=='ПНОС') & (graphic['Код КССС']==207465), 'Дата_производства'].iloc[0]"
   ]
  },
  {
   "cell_type": "code",
   "execution_count": 670,
   "id": "22b41931",
   "metadata": {},
   "outputs": [],
   "source": [
    "def data_shipment(city, code, required_to_make):\n",
    "    print('НАЧАЛО:')\n",
    "    print(graphic)\n",
    "    print('required_to_make: ', required_to_make)\n",
    "    ## проверяем есть ли вообще в списке graphic\n",
    "    if graphic[(graphic['Пункт отгрузки']==city) & (graphic['Код КССС']==code)].empty:\n",
    "        return '-'\n",
    "    ## если в таблице orders не требуется, то мы ставим черточку\n",
    "    elif required_to_make == 0:\n",
    "        return '-'\n",
    "    ## иначе если есть и объема в графике достаточно, то мы    \n",
    "    elif graphic.loc[(graphic['Пункт отгрузки']==city) & (graphic['Код КССС']==code), 'Объем_фасовки, т'].iloc[0] >= required_to_make:   \n",
    "        print('Объем больше')\n",
    "        \n",
    "        ## вычитаем из объема\n",
    "        ## добавить определенное дату, так как будет удалять все значения где код и пункт совпадаем\n",
    "        data_of_making = graphic.loc[(graphic['Пункт отгрузки']==city) & (graphic['Код КССС']==code) & \n",
    "                                    (graphic['Дата_производства']==graphic.loc[(graphic['Пункт отгрузки']==city) \n",
    "                                    & (graphic['Код КССС']==code), 'Дата_производства'].iloc[0]),'Дата_производства'].iloc[0]\n",
    "        graphic.loc[(graphic['Пункт отгрузки']==city) & (graphic['Код КССС']==code) & (graphic['Дата_производства']==data_of_making),\n",
    "                    'Объем_фасовки, т'] -= required_to_make\n",
    "        # и возвращаем дату\n",
    "        data = graphic[(graphic['Пункт отгрузки']==city) & (graphic['Код КССС']==code)]['Дата_производства'].dt.date.iloc[0]\n",
    "        print('graphic1: ', graphic)\n",
    "        return data\n",
    "    ## иначе если недостаточно объема чем требуется ...\n",
    "    else:\n",
    "        print('объем меньше')\n",
    "        ## иначе если возвращается только одна дата, то мы должны удалить ее(так как объем меньше) и возратить -\n",
    "        #graphic.loc[(graphic['Пункт отгрузки']==city) & (graphic['Код КССС']==code), 'Объем_фасовки, т'] = 0\n",
    "        if len(graphic.loc[(graphic['Пункт отгрузки']==city) & (graphic['Код КССС']==code)]) == 1:\n",
    "            #graphic.drop(graphic[(graphic['Пункт отгрузки']==city) & (graphic['Код КССС']==code)].index, inplace=True)\n",
    "            print('graphic3', graphic)\n",
    "        #return graphic[(graphic['Пункт отгрузки']==city) & (graphic['Код КССС']==code)]['Дата_производства'].dt.date.iloc[0] \n",
    "            return \"-\"\n",
    "        \n",
    "        \n",
    "        ## и возращается несколько дат\n",
    "        elif len(graphic.loc[(graphic['Пункт отгрузки']==city) & (graphic['Код КССС']==code)]) > 1:\n",
    "            ## вводим переменную длины, чтобы не выйти за пределы\n",
    "            len_of_dates = len(graphic.loc[(graphic['Пункт отгрузки']==city) & (graphic['Код КССС']==code)])\n",
    "            ## вводим счетчик для того чтобы присвоить правильную дату\n",
    "            i = 0\n",
    "            ## создаем накопительную переменную \n",
    "            storage_var = graphic.loc[(graphic['Пункт отгрузки']==city) & (graphic['Код КССС']==code), 'Объем_фасовки, т'].iloc[0]\n",
    "            list_of_dates_to_be_deleted = []\n",
    "\n",
    "            ## пока объем фасовки меньше, чем требуется\n",
    "            while storage_var<required_to_make and len_of_dates>1:\n",
    "                print('в цикле')\n",
    "                print('len_of_dates=', len_of_dates)\n",
    "                len_of_dates-=1\n",
    "                ## переходим к следующей\n",
    "                i+=1\n",
    "                ## и прибавляем к накопительной переменной\n",
    "                storage_var+= graphic.loc[(graphic['Пункт отгрузки']==city) & (graphic['Код КССС']==code), 'Объем_фасовки, т'].iloc[i]\n",
    "                print('прибавили к накопительной следующий объем: ', storage_var)\n",
    "                list_of_dates_to_be_deleted.append(graphic.loc[(graphic['Пункт отгрузки']==city) & (graphic['Код КССС']==code) & \n",
    "                                             (graphic['Дата_производства']==graphic.loc[(graphic['Пункт отгрузки']==city) \n",
    "                                            & (graphic['Код КССС']==code), 'Дата_производства'].iloc[i-1]),\n",
    "                                             'Дата_производства'].iloc[0])\n",
    "                print('даты которые нужно удалить: ', list_of_dates_to_be_deleted)\n",
    "                 ## и обнуляем в графике объем фасовки\n",
    "                #graphic.loc[(graphic['Пункт отгрузки']==city) & (graphic['Код КССС']==code), 'Объем_фасовки, т'].iloc[i]\n",
    "                \n",
    "                print('storage fresh, ', storage_var)\n",
    "                print('required fresh, ' , required_to_make) \n",
    "                \n",
    "            #если требуемый объем не накопился то возвращает -\n",
    "            if storage_var<required_to_make:\n",
    "                print('не накопился')\n",
    "                return '-'\n",
    "            # иначе\n",
    "            else:\n",
    "                ##нужно обнулить или удалить предыдущие даты, которые схлопнулись\n",
    "                for j in (list_of_dates_to_be_deleted):\n",
    "                    graphic.drop(graphic[(graphic['Пункт отгрузки']==city) & (graphic['Код КССС']==code) & \n",
    "                           (graphic['Дата_производства']==j)].index, inplace=True)\n",
    "                    i-=1\n",
    "                print('i= ',i)\n",
    "                \n",
    "                ## предыдущая дата и текущая\n",
    "#                 data_of_making_pred = graphic.loc[(graphic['Пункт отгрузки']==city) & (graphic['Код КССС']==code) & \n",
    "#                                              (graphic['Дата_производства']==graphic.loc[(graphic['Пункт отгрузки']==city) \n",
    "#                                             & (graphic['Код КССС']==code), 'Дата_производства'].iloc[i-1]),\n",
    "#                                              'Дата_производства'].iloc[0]\n",
    "                data_of_making = graphic.loc[(graphic['Пункт отгрузки']==city) & (graphic['Код КССС']==code) & \n",
    "                                             (graphic['Дата_производства']==graphic.loc[(graphic['Пункт отгрузки']==city) \n",
    "                                            & (graphic['Код КССС']==code), 'Дата_производства'].iloc[i]),\n",
    "                                             'Дата_производства'].iloc[0]\n",
    "                \n",
    "                ##попробуем не обнулять, а сразу удалять график которого объем стал равен нулю\n",
    "#                 graphic.drop(graphic[(graphic['Пункт отгрузки']==city) & (graphic['Код КССС']==code) & \n",
    "#                             (graphic['Дата_производства']==data_of_making_pred)].index, inplace=True)\n",
    "                print('после удаления:, ',graphic)\n",
    "                \n",
    "\n",
    "            print('data making', data_of_making)\n",
    "        \n",
    "            ## вычитаем\n",
    "            graphic.loc[(graphic['Пункт отгрузки']==city) & (graphic['Код КССС']==code) & \n",
    "                        (graphic['Дата_производства']==data_of_making), 'Объем_фасовки, т'] = storage_var-required_to_make\n",
    "            print('вычли')\n",
    "\n",
    "\n",
    "            print('по окончанию цикла возвращает тот i который требуется', i)    \n",
    "            data = graphic[(graphic['Пункт отгрузки']==city) & (graphic['Код КССС']==code)]['Дата_производства'].dt.date.iloc[i] \n",
    "            print('graphic2', graphic)\n",
    "            return data\n",
    "\n",
    "        \n",
    "        \n",
    "        \n"
   ]
  },
  {
   "cell_type": "code",
   "execution_count": 671,
   "id": "5009b647",
   "metadata": {
    "scrolled": true
   },
   "outputs": [
    {
     "name": "stdout",
     "output_type": "stream",
     "text": [
      "НАЧАЛО:\n",
      "  Пункт отгрузки  Код КССС Дата_производства  Объем_фасовки, т\n",
      "0            ВНП   1779443        2022-06-11                 1\n",
      "1            ВНП   1779443        2022-06-12                 2\n",
      "2            ВНП   1779443        2022-06-13                 1\n",
      "3            ВНП   1779443        2022-06-14                 3\n",
      "required_to_make:  8\n",
      "объем меньше\n",
      "в цикле\n",
      "len_of_dates= 4\n",
      "прибавили к накопительной следующий объем:  3\n",
      "даты которые нужно удалить:  [Timestamp('2022-06-11 00:00:00')]\n",
      "storage fresh,  3\n",
      "required fresh,  8\n",
      "в цикле\n",
      "len_of_dates= 3\n",
      "прибавили к накопительной следующий объем:  4\n",
      "даты которые нужно удалить:  [Timestamp('2022-06-11 00:00:00'), Timestamp('2022-06-12 00:00:00')]\n",
      "storage fresh,  4\n",
      "required fresh,  8\n",
      "в цикле\n",
      "len_of_dates= 2\n",
      "прибавили к накопительной следующий объем:  7\n",
      "даты которые нужно удалить:  [Timestamp('2022-06-11 00:00:00'), Timestamp('2022-06-12 00:00:00'), Timestamp('2022-06-13 00:00:00')]\n",
      "storage fresh,  7\n",
      "required fresh,  8\n",
      "не накопился\n"
     ]
    }
   ],
   "source": [
    "orders['дата производства'] = orders.apply(lambda x: data_shipment(x['Пункт отгрузки'], x['КССС мат'], x['осталось произвести, тн']), axis=1)"
   ]
  },
  {
   "cell_type": "code",
   "execution_count": 672,
   "id": "01452e51",
   "metadata": {},
   "outputs": [
    {
     "data": {
      "text/html": [
       "<div>\n",
       "<style scoped>\n",
       "    .dataframe tbody tr th:only-of-type {\n",
       "        vertical-align: middle;\n",
       "    }\n",
       "\n",
       "    .dataframe tbody tr th {\n",
       "        vertical-align: top;\n",
       "    }\n",
       "\n",
       "    .dataframe thead th {\n",
       "        text-align: right;\n",
       "    }\n",
       "</style>\n",
       "<table border=\"1\" class=\"dataframe\">\n",
       "  <thead>\n",
       "    <tr style=\"text-align: right;\">\n",
       "      <th></th>\n",
       "      <th>Пункт отгрузки</th>\n",
       "      <th>Код КССС</th>\n",
       "      <th>Дата_производства</th>\n",
       "      <th>Объем_фасовки, т</th>\n",
       "    </tr>\n",
       "  </thead>\n",
       "  <tbody>\n",
       "    <tr>\n",
       "      <th>0</th>\n",
       "      <td>ВНП</td>\n",
       "      <td>1779443</td>\n",
       "      <td>2022-06-11</td>\n",
       "      <td>1</td>\n",
       "    </tr>\n",
       "    <tr>\n",
       "      <th>1</th>\n",
       "      <td>ВНП</td>\n",
       "      <td>1779443</td>\n",
       "      <td>2022-06-12</td>\n",
       "      <td>2</td>\n",
       "    </tr>\n",
       "    <tr>\n",
       "      <th>2</th>\n",
       "      <td>ВНП</td>\n",
       "      <td>1779443</td>\n",
       "      <td>2022-06-13</td>\n",
       "      <td>1</td>\n",
       "    </tr>\n",
       "    <tr>\n",
       "      <th>3</th>\n",
       "      <td>ВНП</td>\n",
       "      <td>1779443</td>\n",
       "      <td>2022-06-14</td>\n",
       "      <td>3</td>\n",
       "    </tr>\n",
       "  </tbody>\n",
       "</table>\n",
       "</div>"
      ],
      "text/plain": [
       "  Пункт отгрузки  Код КССС Дата_производства  Объем_фасовки, т\n",
       "0            ВНП   1779443        2022-06-11                 1\n",
       "1            ВНП   1779443        2022-06-12                 2\n",
       "2            ВНП   1779443        2022-06-13                 1\n",
       "3            ВНП   1779443        2022-06-14                 3"
      ]
     },
     "execution_count": 672,
     "metadata": {},
     "output_type": "execute_result"
    }
   ],
   "source": [
    "graphic"
   ]
  },
  {
   "cell_type": "code",
   "execution_count": 673,
   "id": "8da14595",
   "metadata": {},
   "outputs": [
    {
     "data": {
      "text/html": [
       "<div>\n",
       "<style scoped>\n",
       "    .dataframe tbody tr th:only-of-type {\n",
       "        vertical-align: middle;\n",
       "    }\n",
       "\n",
       "    .dataframe tbody tr th {\n",
       "        vertical-align: top;\n",
       "    }\n",
       "\n",
       "    .dataframe thead th {\n",
       "        text-align: right;\n",
       "    }\n",
       "</style>\n",
       "<table border=\"1\" class=\"dataframe\">\n",
       "  <thead>\n",
       "    <tr style=\"text-align: right;\">\n",
       "      <th></th>\n",
       "      <th>КССС мат</th>\n",
       "      <th>Пункт отгрузки</th>\n",
       "      <th>осталось произвести, тн</th>\n",
       "      <th>дата производства</th>\n",
       "    </tr>\n",
       "  </thead>\n",
       "  <tbody>\n",
       "    <tr>\n",
       "      <th>0</th>\n",
       "      <td>1779443</td>\n",
       "      <td>ВНП</td>\n",
       "      <td>8</td>\n",
       "      <td>-</td>\n",
       "    </tr>\n",
       "  </tbody>\n",
       "</table>\n",
       "</div>"
      ],
      "text/plain": [
       "   КССС мат Пункт отгрузки  осталось произвести, тн дата производства\n",
       "0   1779443            ВНП                        8                 -"
      ]
     },
     "execution_count": 673,
     "metadata": {},
     "output_type": "execute_result"
    }
   ],
   "source": [
    "orders"
   ]
  },
  {
   "cell_type": "code",
   "execution_count": 674,
   "id": "c11f0155",
   "metadata": {},
   "outputs": [
    {
     "data": {
      "text/plain": [
       "Series([], Name: Объем_фасовки, т, dtype: int64)"
      ]
     },
     "execution_count": 674,
     "metadata": {},
     "output_type": "execute_result"
    }
   ],
   "source": [
    "graphic.loc[(graphic['Пункт отгрузки']=='ПНОС') & (graphic['Код КССС']==207465), 'Объем_фасовки, т']"
   ]
  },
  {
   "cell_type": "code",
   "execution_count": 675,
   "id": "b9a5c9c3",
   "metadata": {},
   "outputs": [
    {
     "data": {
      "text/plain": [
       "True"
      ]
     },
     "execution_count": 675,
     "metadata": {},
     "output_type": "execute_result"
    }
   ],
   "source": [
    "graphic[(graphic['Пункт отгрузки']==\"ПНОС\") & (graphic['Код КССС']==20746)].empty"
   ]
  },
  {
   "cell_type": "code",
   "execution_count": 676,
   "id": "7900f329",
   "metadata": {},
   "outputs": [],
   "source": [
    "##делать колонку с тем, сколько не хватает еще бессмысленно, так как продукт может далее распределиться по другим заказам, \n",
    "#для которых хватает и тогда число не будет иметь значение"
   ]
  },
  {
   "cell_type": "code",
   "execution_count": 677,
   "id": "333a4ae2",
   "metadata": {},
   "outputs": [],
   "source": [
    "# проверить если не накопилась дважды или трижды"
   ]
  }
 ],
 "metadata": {
  "kernelspec": {
   "display_name": "Python 3 (ipykernel)",
   "language": "python",
   "name": "python3"
  },
  "language_info": {
   "codemirror_mode": {
    "name": "ipython",
    "version": 3
   },
   "file_extension": ".py",
   "mimetype": "text/x-python",
   "name": "python",
   "nbconvert_exporter": "python",
   "pygments_lexer": "ipython3",
   "version": "3.9.7"
  }
 },
 "nbformat": 4,
 "nbformat_minor": 5
}
