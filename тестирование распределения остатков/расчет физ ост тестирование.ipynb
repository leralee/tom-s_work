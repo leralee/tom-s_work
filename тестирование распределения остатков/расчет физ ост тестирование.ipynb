{
 "cells": [
  {
   "cell_type": "code",
   "execution_count": 95,
   "id": "dc359fe1",
   "metadata": {},
   "outputs": [],
   "source": [
    "import pandas as pd"
   ]
  },
  {
   "cell_type": "code",
   "execution_count": 343,
   "id": "9f62166e",
   "metadata": {},
   "outputs": [],
   "source": [
    "residuals = pd.DataFrame({'area': ['pnos', 'vnp'], 'number': [3, 4], 'balances':[15,95]})\n"
   ]
  },
  {
   "cell_type": "code",
   "execution_count": 344,
   "id": "caf9699b",
   "metadata": {},
   "outputs": [],
   "source": [
    "orders = pd.DataFrame({'area': ['pnos', 'vnp'], 'number': [3, 4], 'otgruzheno':[20,3]})"
   ]
  },
  {
   "cell_type": "code",
   "execution_count": 345,
   "id": "307c8ff4",
   "metadata": {},
   "outputs": [
    {
     "data": {
      "text/html": [
       "<div>\n",
       "<style scoped>\n",
       "    .dataframe tbody tr th:only-of-type {\n",
       "        vertical-align: middle;\n",
       "    }\n",
       "\n",
       "    .dataframe tbody tr th {\n",
       "        vertical-align: top;\n",
       "    }\n",
       "\n",
       "    .dataframe thead th {\n",
       "        text-align: right;\n",
       "    }\n",
       "</style>\n",
       "<table border=\"1\" class=\"dataframe\">\n",
       "  <thead>\n",
       "    <tr style=\"text-align: right;\">\n",
       "      <th></th>\n",
       "      <th>area</th>\n",
       "      <th>number</th>\n",
       "      <th>otgruzheno</th>\n",
       "    </tr>\n",
       "  </thead>\n",
       "  <tbody>\n",
       "    <tr>\n",
       "      <th>0</th>\n",
       "      <td>pnos</td>\n",
       "      <td>3</td>\n",
       "      <td>20</td>\n",
       "    </tr>\n",
       "    <tr>\n",
       "      <th>1</th>\n",
       "      <td>vnp</td>\n",
       "      <td>4</td>\n",
       "      <td>3</td>\n",
       "    </tr>\n",
       "  </tbody>\n",
       "</table>\n",
       "</div>"
      ],
      "text/plain": [
       "   area  number  otgruzheno\n",
       "0  pnos       3          20\n",
       "1   vnp       4           3"
      ]
     },
     "execution_count": 345,
     "metadata": {},
     "output_type": "execute_result"
    }
   ],
   "source": [
    "orders"
   ]
  },
  {
   "cell_type": "code",
   "execution_count": 346,
   "id": "28fae68f",
   "metadata": {},
   "outputs": [
    {
     "data": {
      "text/plain": [
       "0.8999999999999986"
      ]
     },
     "execution_count": 346,
     "metadata": {},
     "output_type": "execute_result"
    }
   ],
   "source": [
    "20.0 - 19.1"
   ]
  },
  {
   "cell_type": "code",
   "execution_count": 347,
   "id": "5ea663bb",
   "metadata": {},
   "outputs": [
    {
     "data": {
      "text/html": [
       "<div>\n",
       "<style scoped>\n",
       "    .dataframe tbody tr th:only-of-type {\n",
       "        vertical-align: middle;\n",
       "    }\n",
       "\n",
       "    .dataframe tbody tr th {\n",
       "        vertical-align: top;\n",
       "    }\n",
       "\n",
       "    .dataframe thead th {\n",
       "        text-align: right;\n",
       "    }\n",
       "</style>\n",
       "<table border=\"1\" class=\"dataframe\">\n",
       "  <thead>\n",
       "    <tr style=\"text-align: right;\">\n",
       "      <th></th>\n",
       "      <th>area</th>\n",
       "      <th>number</th>\n",
       "      <th>balances</th>\n",
       "    </tr>\n",
       "  </thead>\n",
       "  <tbody>\n",
       "    <tr>\n",
       "      <th>0</th>\n",
       "      <td>pnos</td>\n",
       "      <td>3</td>\n",
       "      <td>15</td>\n",
       "    </tr>\n",
       "    <tr>\n",
       "      <th>1</th>\n",
       "      <td>vnp</td>\n",
       "      <td>4</td>\n",
       "      <td>95</td>\n",
       "    </tr>\n",
       "  </tbody>\n",
       "</table>\n",
       "</div>"
      ],
      "text/plain": [
       "   area  number  balances\n",
       "0  pnos       3        15\n",
       "1   vnp       4        95"
      ]
     },
     "execution_count": 347,
     "metadata": {},
     "output_type": "execute_result"
    }
   ],
   "source": [
    "residuals"
   ]
  },
  {
   "cell_type": "code",
   "execution_count": 348,
   "id": "c145c5bf",
   "metadata": {},
   "outputs": [],
   "source": [
    "residuals = pd.merge(residuals, orders, how=\"left\")\n",
    "residuals.otgruzheno.fillna(0, inplace=True)\n"
   ]
  },
  {
   "cell_type": "code",
   "execution_count": 349,
   "id": "c39cbbdf",
   "metadata": {},
   "outputs": [
    {
     "data": {
      "text/html": [
       "<div>\n",
       "<style scoped>\n",
       "    .dataframe tbody tr th:only-of-type {\n",
       "        vertical-align: middle;\n",
       "    }\n",
       "\n",
       "    .dataframe tbody tr th {\n",
       "        vertical-align: top;\n",
       "    }\n",
       "\n",
       "    .dataframe thead th {\n",
       "        text-align: right;\n",
       "    }\n",
       "</style>\n",
       "<table border=\"1\" class=\"dataframe\">\n",
       "  <thead>\n",
       "    <tr style=\"text-align: right;\">\n",
       "      <th></th>\n",
       "      <th>area</th>\n",
       "      <th>number</th>\n",
       "      <th>balances</th>\n",
       "      <th>otgruzheno</th>\n",
       "    </tr>\n",
       "  </thead>\n",
       "  <tbody>\n",
       "    <tr>\n",
       "      <th>0</th>\n",
       "      <td>pnos</td>\n",
       "      <td>3</td>\n",
       "      <td>15</td>\n",
       "      <td>20</td>\n",
       "    </tr>\n",
       "    <tr>\n",
       "      <th>1</th>\n",
       "      <td>vnp</td>\n",
       "      <td>4</td>\n",
       "      <td>95</td>\n",
       "      <td>3</td>\n",
       "    </tr>\n",
       "  </tbody>\n",
       "</table>\n",
       "</div>"
      ],
      "text/plain": [
       "   area  number  balances  otgruzheno\n",
       "0  pnos       3        15          20\n",
       "1   vnp       4        95           3"
      ]
     },
     "execution_count": 349,
     "metadata": {},
     "output_type": "execute_result"
    }
   ],
   "source": [
    "residuals"
   ]
  },
  {
   "cell_type": "code",
   "execution_count": 350,
   "id": "a46a40d8",
   "metadata": {},
   "outputs": [],
   "source": [
    "residuals['cum_sum'] = residuals.groupby(['area', 'number']).otgruzheno.cumsum()\n",
    "residuals = residuals.drop_duplicates(subset=['area','number'], keep='last')\n",
    "residuals['new_balance'] = (residuals['balances'] - residuals['cum_sum']).clip(lower=0)"
   ]
  },
  {
   "cell_type": "code",
   "execution_count": 351,
   "id": "932f4585",
   "metadata": {},
   "outputs": [
    {
     "data": {
      "text/html": [
       "<div>\n",
       "<style scoped>\n",
       "    .dataframe tbody tr th:only-of-type {\n",
       "        vertical-align: middle;\n",
       "    }\n",
       "\n",
       "    .dataframe tbody tr th {\n",
       "        vertical-align: top;\n",
       "    }\n",
       "\n",
       "    .dataframe thead th {\n",
       "        text-align: right;\n",
       "    }\n",
       "</style>\n",
       "<table border=\"1\" class=\"dataframe\">\n",
       "  <thead>\n",
       "    <tr style=\"text-align: right;\">\n",
       "      <th></th>\n",
       "      <th>area</th>\n",
       "      <th>number</th>\n",
       "      <th>balances</th>\n",
       "      <th>otgruzheno</th>\n",
       "      <th>cum_sum</th>\n",
       "      <th>new_balance</th>\n",
       "    </tr>\n",
       "  </thead>\n",
       "  <tbody>\n",
       "    <tr>\n",
       "      <th>0</th>\n",
       "      <td>pnos</td>\n",
       "      <td>3</td>\n",
       "      <td>15</td>\n",
       "      <td>20</td>\n",
       "      <td>20</td>\n",
       "      <td>0</td>\n",
       "    </tr>\n",
       "    <tr>\n",
       "      <th>1</th>\n",
       "      <td>vnp</td>\n",
       "      <td>4</td>\n",
       "      <td>95</td>\n",
       "      <td>3</td>\n",
       "      <td>3</td>\n",
       "      <td>92</td>\n",
       "    </tr>\n",
       "  </tbody>\n",
       "</table>\n",
       "</div>"
      ],
      "text/plain": [
       "   area  number  balances  otgruzheno  cum_sum  new_balance\n",
       "0  pnos       3        15          20       20            0\n",
       "1   vnp       4        95           3        3           92"
      ]
     },
     "execution_count": 351,
     "metadata": {},
     "output_type": "execute_result"
    }
   ],
   "source": [
    "residuals"
   ]
  },
  {
   "cell_type": "code",
   "execution_count": null,
   "id": "10a93b19",
   "metadata": {},
   "outputs": [],
   "source": []
  },
  {
   "cell_type": "code",
   "execution_count": null,
   "id": "449c2f71",
   "metadata": {},
   "outputs": [],
   "source": []
  },
  {
   "cell_type": "code",
   "execution_count": null,
   "id": "c77771a2",
   "metadata": {},
   "outputs": [],
   "source": []
  },
  {
   "cell_type": "code",
   "execution_count": null,
   "id": "55d788cb",
   "metadata": {},
   "outputs": [],
   "source": []
  },
  {
   "cell_type": "code",
   "execution_count": null,
   "id": "15781b47",
   "metadata": {},
   "outputs": [],
   "source": []
  },
  {
   "cell_type": "code",
   "execution_count": 183,
   "id": "7d24f5d9",
   "metadata": {},
   "outputs": [
    {
     "data": {
      "text/plain": [
       "0    20.0\n",
       "1    95.0\n",
       "2    25.0\n",
       "3     5.0\n",
       "4     0.0\n",
       "dtype: float64"
      ]
     },
     "execution_count": 183,
     "metadata": {},
     "output_type": "execute_result"
    }
   ],
   "source": [
    "orders.balances - orders.requires_cum + orders.requires"
   ]
  },
  {
   "cell_type": "code",
   "execution_count": 128,
   "id": "e04470ca",
   "metadata": {},
   "outputs": [
    {
     "data": {
      "text/html": [
       "<div>\n",
       "<style scoped>\n",
       "    .dataframe tbody tr th:only-of-type {\n",
       "        vertical-align: middle;\n",
       "    }\n",
       "\n",
       "    .dataframe tbody tr th {\n",
       "        vertical-align: top;\n",
       "    }\n",
       "\n",
       "    .dataframe thead th {\n",
       "        text-align: right;\n",
       "    }\n",
       "</style>\n",
       "<table border=\"1\" class=\"dataframe\">\n",
       "  <thead>\n",
       "    <tr style=\"text-align: right;\">\n",
       "      <th></th>\n",
       "      <th>area</th>\n",
       "      <th>number</th>\n",
       "      <th>requires</th>\n",
       "      <th>balances</th>\n",
       "      <th>requires_cum</th>\n",
       "      <th>ready</th>\n",
       "    </tr>\n",
       "  </thead>\n",
       "  <tbody>\n",
       "    <tr>\n",
       "      <th>0</th>\n",
       "      <td>pnos</td>\n",
       "      <td>3</td>\n",
       "      <td>40</td>\n",
       "      <td>20.0</td>\n",
       "      <td>40</td>\n",
       "      <td>20.0</td>\n",
       "    </tr>\n",
       "    <tr>\n",
       "      <th>1</th>\n",
       "      <td>vnp</td>\n",
       "      <td>4</td>\n",
       "      <td>70</td>\n",
       "      <td>95.0</td>\n",
       "      <td>70</td>\n",
       "      <td>70.0</td>\n",
       "    </tr>\n",
       "    <tr>\n",
       "      <th>2</th>\n",
       "      <td>vnp</td>\n",
       "      <td>4</td>\n",
       "      <td>20</td>\n",
       "      <td>95.0</td>\n",
       "      <td>90</td>\n",
       "      <td>20.0</td>\n",
       "    </tr>\n",
       "    <tr>\n",
       "      <th>3</th>\n",
       "      <td>vnp</td>\n",
       "      <td>4</td>\n",
       "      <td>10</td>\n",
       "      <td>95.0</td>\n",
       "      <td>100</td>\n",
       "      <td>5.0</td>\n",
       "    </tr>\n",
       "    <tr>\n",
       "      <th>4</th>\n",
       "      <td>vnp</td>\n",
       "      <td>1</td>\n",
       "      <td>25</td>\n",
       "      <td>0.0</td>\n",
       "      <td>25</td>\n",
       "      <td>0.0</td>\n",
       "    </tr>\n",
       "  </tbody>\n",
       "</table>\n",
       "</div>"
      ],
      "text/plain": [
       "   area  number  requires  balances  requires_cum  ready\n",
       "0  pnos       3        40      20.0            40   20.0\n",
       "1   vnp       4        70      95.0            70   70.0\n",
       "2   vnp       4        20      95.0            90   20.0\n",
       "3   vnp       4        10      95.0           100    5.0\n",
       "4   vnp       1        25       0.0            25    0.0"
      ]
     },
     "execution_count": 128,
     "metadata": {},
     "output_type": "execute_result"
    }
   ],
   "source": [
    "orders[\"ready\"] = orders.requires.clip(upper=orders.balances - orders.requires_cum + orders.requires).clip(lower=0)\n",
    "orders"
   ]
  },
  {
   "cell_type": "code",
   "execution_count": 110,
   "id": "ed9cfebd",
   "metadata": {},
   "outputs": [
    {
     "data": {
      "text/html": [
       "<div>\n",
       "<style scoped>\n",
       "    .dataframe tbody tr th:only-of-type {\n",
       "        vertical-align: middle;\n",
       "    }\n",
       "\n",
       "    .dataframe tbody tr th {\n",
       "        vertical-align: top;\n",
       "    }\n",
       "\n",
       "    .dataframe thead th {\n",
       "        text-align: right;\n",
       "    }\n",
       "</style>\n",
       "<table border=\"1\" class=\"dataframe\">\n",
       "  <thead>\n",
       "    <tr style=\"text-align: right;\">\n",
       "      <th></th>\n",
       "      <th>area</th>\n",
       "      <th>number</th>\n",
       "      <th>balances</th>\n",
       "    </tr>\n",
       "  </thead>\n",
       "  <tbody>\n",
       "    <tr>\n",
       "      <th>0</th>\n",
       "      <td>pnos</td>\n",
       "      <td>3</td>\n",
       "      <td>20</td>\n",
       "    </tr>\n",
       "  </tbody>\n",
       "</table>\n",
       "</div>"
      ],
      "text/plain": [
       "   area  number  balances\n",
       "0  pnos       3        20"
      ]
     },
     "execution_count": 110,
     "metadata": {},
     "output_type": "execute_result"
    }
   ],
   "source": [
    "residuals[(residuals['number']==3) & (residuals['area']=='pnos')]"
   ]
  },
  {
   "cell_type": "code",
   "execution_count": 117,
   "id": "46365ffd",
   "metadata": {},
   "outputs": [],
   "source": [
    "def distr(number, area, requiers):\n",
    "    if residuals[(residuals['number']==number) & (residuals['area']==area)].empty:\n",
    "        print(type(number), type(requiers))\n",
    "        print(number, requiers)\n",
    "        print('empty')\n",
    "        return 0\n",
    "    elif requiers==0:\n",
    "        return 0\n",
    "    elif requiers>0:\n",
    "        if residuals[(residuals['number']==number) & (residuals['area']==area)]['balances'].iloc[0]  >= requiers:    \n",
    "            residuals.loc[(residuals['number']==number) & (residuals['area']==area), 'balances'] -= requiers\n",
    "            return requiers\n",
    "        else:\n",
    " \n",
    "            result = residuals[(residuals['number']==number) & \n",
    "                               (residuals['area']==area)]['balances'].iloc[0]\n",
    "            residuals.loc[(residuals['number']==number) & (residuals['area']==area), 'balances'] = 0\n",
    "            \n",
    "            return result"
   ]
  },
  {
   "cell_type": "code",
   "execution_count": 118,
   "id": "d33e54e3",
   "metadata": {},
   "outputs": [
    {
     "name": "stdout",
     "output_type": "stream",
     "text": [
      "<class 'int'> <class 'int'>\n",
      "1 25\n",
      "empty\n"
     ]
    }
   ],
   "source": [
    "orders['ready'] = orders.apply(lambda x: distr(x['number'], x['area'], x['requires']), axis=1)"
   ]
  },
  {
   "cell_type": "code",
   "execution_count": 119,
   "id": "2e6ab77e",
   "metadata": {},
   "outputs": [
    {
     "data": {
      "text/html": [
       "<div>\n",
       "<style scoped>\n",
       "    .dataframe tbody tr th:only-of-type {\n",
       "        vertical-align: middle;\n",
       "    }\n",
       "\n",
       "    .dataframe tbody tr th {\n",
       "        vertical-align: top;\n",
       "    }\n",
       "\n",
       "    .dataframe thead th {\n",
       "        text-align: right;\n",
       "    }\n",
       "</style>\n",
       "<table border=\"1\" class=\"dataframe\">\n",
       "  <thead>\n",
       "    <tr style=\"text-align: right;\">\n",
       "      <th></th>\n",
       "      <th>area</th>\n",
       "      <th>number</th>\n",
       "      <th>requires</th>\n",
       "      <th>ready</th>\n",
       "    </tr>\n",
       "  </thead>\n",
       "  <tbody>\n",
       "    <tr>\n",
       "      <th>0</th>\n",
       "      <td>pnos</td>\n",
       "      <td>3</td>\n",
       "      <td>40</td>\n",
       "      <td>20</td>\n",
       "    </tr>\n",
       "    <tr>\n",
       "      <th>1</th>\n",
       "      <td>vnp</td>\n",
       "      <td>4</td>\n",
       "      <td>70</td>\n",
       "      <td>70</td>\n",
       "    </tr>\n",
       "    <tr>\n",
       "      <th>2</th>\n",
       "      <td>vnp</td>\n",
       "      <td>4</td>\n",
       "      <td>20</td>\n",
       "      <td>20</td>\n",
       "    </tr>\n",
       "    <tr>\n",
       "      <th>3</th>\n",
       "      <td>vnp</td>\n",
       "      <td>4</td>\n",
       "      <td>10</td>\n",
       "      <td>5</td>\n",
       "    </tr>\n",
       "    <tr>\n",
       "      <th>4</th>\n",
       "      <td>vnp</td>\n",
       "      <td>1</td>\n",
       "      <td>25</td>\n",
       "      <td>0</td>\n",
       "    </tr>\n",
       "  </tbody>\n",
       "</table>\n",
       "</div>"
      ],
      "text/plain": [
       "   area  number  requires  ready\n",
       "0  pnos       3        40     20\n",
       "1   vnp       4        70     70\n",
       "2   vnp       4        20     20\n",
       "3   vnp       4        10      5\n",
       "4   vnp       1        25      0"
      ]
     },
     "execution_count": 119,
     "metadata": {},
     "output_type": "execute_result"
    }
   ],
   "source": [
    "orders"
   ]
  },
  {
   "cell_type": "code",
   "execution_count": null,
   "id": "ad488d0b",
   "metadata": {},
   "outputs": [],
   "source": [
    "def raspredelenie(ksss, neispolneno, area):\n",
    "    \n",
    "        \n",
    "    #if (code_of_product not in req_3_factory_group[req_3_factory_group['area']==area]['number_product'].values) & (area not in req_3_factory_group[req_3_factory_group['number_product']==code_of_product]['area']):\n",
    "    if fiz_ostatki[(fiz_ostatki['number_product']==ksss) & (fiz_ostatki['area']==area)].empty:\n",
    "        return 0\n",
    "       \n",
    "    elif neispolneno==0:\n",
    "        return 0\n",
    "        \n",
    "    elif neispolneno>0:\n",
    "#         print('ksss: ' + str(ksss) + \" \" + str(area))\n",
    "        if fiz_ostatki[(fiz_ostatki['number_product']==ksss) & \n",
    "                               (fiz_ostatki['area']==area)]['balances'].iloc[0]  >= neispolneno:    \n",
    "            fiz_ostatki.loc[(fiz_ostatki['number_product']==ksss) & (fiz_ostatki['area']==area), 'balances'] -= neispolneno\n",
    "#             print(neispolneno)\n",
    "            return neispolneno\n",
    "           \n",
    "    \n",
    "        else:\n",
    " \n",
    "            result = fiz_ostatki[(fiz_ostatki['number_product']==ksss) & \n",
    "                               (fiz_ostatki['area']==area)]['balances'].iloc[0]\n",
    "          \n",
    "            fiz_ostatki.loc[(fiz_ostatki['number_product']==ksss) & (fiz_ostatki['area']==area), 'balances'] = 0\n",
    "            \n",
    "            return result"
   ]
  },
  {
   "cell_type": "code",
   "execution_count": 42,
   "id": "5009b647",
   "metadata": {
    "scrolled": true
   },
   "outputs": [
    {
     "name": "stdout",
     "output_type": "stream",
     "text": [
      "НАЧАЛО:\n",
      "  Пункт отгрузки  Код КССС Дата_производства  Объем_фасовки, т\n",
      "0            ВНП   1779443        2022-06-11                 8\n",
      "required_to_make:  8\n",
      "Объем больше\n",
      "graphic1:    Пункт отгрузки  Код КССС Дата_производства  Объем_фасовки, т\n",
      "0            ВНП   1779443        2022-06-11                 0\n"
     ]
    }
   ],
   "source": [
    "orders['дата производства'] = orders.apply(lambda x: data_shipment(x['Пункт отгрузки'], x['КССС мат'], x['осталось произвести, тн']), axis=1)"
   ]
  },
  {
   "cell_type": "code",
   "execution_count": 43,
   "id": "01452e51",
   "metadata": {},
   "outputs": [
    {
     "data": {
      "text/html": [
       "<div>\n",
       "<style scoped>\n",
       "    .dataframe tbody tr th:only-of-type {\n",
       "        vertical-align: middle;\n",
       "    }\n",
       "\n",
       "    .dataframe tbody tr th {\n",
       "        vertical-align: top;\n",
       "    }\n",
       "\n",
       "    .dataframe thead th {\n",
       "        text-align: right;\n",
       "    }\n",
       "</style>\n",
       "<table border=\"1\" class=\"dataframe\">\n",
       "  <thead>\n",
       "    <tr style=\"text-align: right;\">\n",
       "      <th></th>\n",
       "      <th>Пункт отгрузки</th>\n",
       "      <th>Код КССС</th>\n",
       "      <th>Дата_производства</th>\n",
       "      <th>Объем_фасовки, т</th>\n",
       "    </tr>\n",
       "  </thead>\n",
       "  <tbody>\n",
       "    <tr>\n",
       "      <th>0</th>\n",
       "      <td>ВНП</td>\n",
       "      <td>1779443</td>\n",
       "      <td>2022-06-11</td>\n",
       "      <td>0</td>\n",
       "    </tr>\n",
       "  </tbody>\n",
       "</table>\n",
       "</div>"
      ],
      "text/plain": [
       "  Пункт отгрузки  Код КССС Дата_производства  Объем_фасовки, т\n",
       "0            ВНП   1779443        2022-06-11                 0"
      ]
     },
     "execution_count": 43,
     "metadata": {},
     "output_type": "execute_result"
    }
   ],
   "source": [
    "graphic"
   ]
  },
  {
   "cell_type": "code",
   "execution_count": 44,
   "id": "8da14595",
   "metadata": {},
   "outputs": [
    {
     "data": {
      "text/html": [
       "<div>\n",
       "<style scoped>\n",
       "    .dataframe tbody tr th:only-of-type {\n",
       "        vertical-align: middle;\n",
       "    }\n",
       "\n",
       "    .dataframe tbody tr th {\n",
       "        vertical-align: top;\n",
       "    }\n",
       "\n",
       "    .dataframe thead th {\n",
       "        text-align: right;\n",
       "    }\n",
       "</style>\n",
       "<table border=\"1\" class=\"dataframe\">\n",
       "  <thead>\n",
       "    <tr style=\"text-align: right;\">\n",
       "      <th></th>\n",
       "      <th>КССС мат</th>\n",
       "      <th>Пункт отгрузки</th>\n",
       "      <th>осталось произвести, тн</th>\n",
       "      <th>дата производства</th>\n",
       "    </tr>\n",
       "  </thead>\n",
       "  <tbody>\n",
       "    <tr>\n",
       "      <th>0</th>\n",
       "      <td>1779443</td>\n",
       "      <td>ВНП</td>\n",
       "      <td>8</td>\n",
       "      <td>2022-06-11</td>\n",
       "    </tr>\n",
       "  </tbody>\n",
       "</table>\n",
       "</div>"
      ],
      "text/plain": [
       "   КССС мат Пункт отгрузки  осталось произвести, тн дата производства\n",
       "0   1779443            ВНП                        8        2022-06-11"
      ]
     },
     "execution_count": 44,
     "metadata": {},
     "output_type": "execute_result"
    }
   ],
   "source": [
    "orders"
   ]
  },
  {
   "cell_type": "code",
   "execution_count": 712,
   "id": "c11f0155",
   "metadata": {},
   "outputs": [
    {
     "data": {
      "text/plain": [
       "Series([], Name: Объем_фасовки, т, dtype: int64)"
      ]
     },
     "execution_count": 712,
     "metadata": {},
     "output_type": "execute_result"
    }
   ],
   "source": [
    "graphic.loc[(graphic['Пункт отгрузки']=='ПНОС') & (graphic['Код КССС']==207465), 'Объем_фасовки, т']"
   ]
  },
  {
   "cell_type": "code",
   "execution_count": 713,
   "id": "b9a5c9c3",
   "metadata": {},
   "outputs": [
    {
     "data": {
      "text/plain": [
       "True"
      ]
     },
     "execution_count": 713,
     "metadata": {},
     "output_type": "execute_result"
    }
   ],
   "source": [
    "graphic[(graphic['Пункт отгрузки']==\"ПНОС\") & (graphic['Код КССС']==20746)].empty"
   ]
  },
  {
   "cell_type": "code",
   "execution_count": 714,
   "id": "7900f329",
   "metadata": {},
   "outputs": [],
   "source": [
    "##делать колонку с тем, сколько не хватает еще бессмысленно, так как продукт может далее распределиться по другим заказам, \n",
    "#для которых хватает и тогда число не будет иметь значение"
   ]
  },
  {
   "cell_type": "code",
   "execution_count": 715,
   "id": "333a4ae2",
   "metadata": {},
   "outputs": [],
   "source": [
    "# проверить если не накопилась дважды или трижды"
   ]
  },
  {
   "cell_type": "code",
   "execution_count": 129,
   "id": "c4503e49",
   "metadata": {},
   "outputs": [
    {
     "data": {
      "text/html": [
       "<div>\n",
       "<style scoped>\n",
       "    .dataframe tbody tr th:only-of-type {\n",
       "        vertical-align: middle;\n",
       "    }\n",
       "\n",
       "    .dataframe tbody tr th {\n",
       "        vertical-align: top;\n",
       "    }\n",
       "\n",
       "    .dataframe thead th {\n",
       "        text-align: right;\n",
       "    }\n",
       "</style>\n",
       "<table border=\"1\" class=\"dataframe\">\n",
       "  <thead>\n",
       "    <tr style=\"text-align: right;\">\n",
       "      <th></th>\n",
       "      <th>col_0</th>\n",
       "      <th>col_1</th>\n",
       "    </tr>\n",
       "  </thead>\n",
       "  <tbody>\n",
       "    <tr>\n",
       "      <th>0</th>\n",
       "      <td>9</td>\n",
       "      <td>-2</td>\n",
       "    </tr>\n",
       "    <tr>\n",
       "      <th>1</th>\n",
       "      <td>-3</td>\n",
       "      <td>-7</td>\n",
       "    </tr>\n",
       "    <tr>\n",
       "      <th>2</th>\n",
       "      <td>0</td>\n",
       "      <td>6</td>\n",
       "    </tr>\n",
       "    <tr>\n",
       "      <th>3</th>\n",
       "      <td>-1</td>\n",
       "      <td>8</td>\n",
       "    </tr>\n",
       "    <tr>\n",
       "      <th>4</th>\n",
       "      <td>5</td>\n",
       "      <td>-5</td>\n",
       "    </tr>\n",
       "  </tbody>\n",
       "</table>\n",
       "</div>"
      ],
      "text/plain": [
       "   col_0  col_1\n",
       "0      9     -2\n",
       "1     -3     -7\n",
       "2      0      6\n",
       "3     -1      8\n",
       "4      5     -5"
      ]
     },
     "execution_count": 129,
     "metadata": {},
     "output_type": "execute_result"
    }
   ],
   "source": [
    "data = {'col_0': [9, -3, 0, -1, 5], 'col_1': [-2, -7, 6, 8, -5]}\n",
    ">>> df = pd.DataFrame(data)\n",
    ">>> df"
   ]
  },
  {
   "cell_type": "code",
   "execution_count": 177,
   "id": "0ac273c5",
   "metadata": {},
   "outputs": [
    {
     "data": {
      "text/plain": [
       "0     -7\n",
       "1   -100\n",
       "2    -50\n",
       "3    -20\n",
       "dtype: int64"
      ]
     },
     "execution_count": 177,
     "metadata": {},
     "output_type": "execute_result"
    }
   ],
   "source": [
    "t = pd.Series([-7,-100,-50,-20])\n",
    ">>> t"
   ]
  },
  {
   "cell_type": "code",
   "execution_count": 178,
   "id": "2839f36c",
   "metadata": {},
   "outputs": [
    {
     "data": {
      "text/html": [
       "<div>\n",
       "<style scoped>\n",
       "    .dataframe tbody tr th:only-of-type {\n",
       "        vertical-align: middle;\n",
       "    }\n",
       "\n",
       "    .dataframe tbody tr th {\n",
       "        vertical-align: top;\n",
       "    }\n",
       "\n",
       "    .dataframe thead th {\n",
       "        text-align: right;\n",
       "    }\n",
       "</style>\n",
       "<table border=\"1\" class=\"dataframe\">\n",
       "  <thead>\n",
       "    <tr style=\"text-align: right;\">\n",
       "      <th></th>\n",
       "      <th>col_0</th>\n",
       "      <th>col_1</th>\n",
       "    </tr>\n",
       "  </thead>\n",
       "  <tbody>\n",
       "    <tr>\n",
       "      <th>0</th>\n",
       "      <td>-3.0</td>\n",
       "      <td>-3.0</td>\n",
       "    </tr>\n",
       "    <tr>\n",
       "      <th>1</th>\n",
       "      <td>-96.0</td>\n",
       "      <td>-96.0</td>\n",
       "    </tr>\n",
       "    <tr>\n",
       "      <th>2</th>\n",
       "      <td>-46.0</td>\n",
       "      <td>-46.0</td>\n",
       "    </tr>\n",
       "    <tr>\n",
       "      <th>3</th>\n",
       "      <td>-16.0</td>\n",
       "      <td>-16.0</td>\n",
       "    </tr>\n",
       "    <tr>\n",
       "      <th>4</th>\n",
       "      <td>NaN</td>\n",
       "      <td>NaN</td>\n",
       "    </tr>\n",
       "  </tbody>\n",
       "</table>\n",
       "</div>"
      ],
      "text/plain": [
       "   col_0  col_1\n",
       "0   -3.0   -3.0\n",
       "1  -96.0  -96.0\n",
       "2  -46.0  -46.0\n",
       "3  -16.0  -16.0\n",
       "4    NaN    NaN"
      ]
     },
     "execution_count": 178,
     "metadata": {},
     "output_type": "execute_result"
    }
   ],
   "source": [
    "df.clip(t, t + 4, axis=0)"
   ]
  },
  {
   "cell_type": "code",
   "execution_count": 179,
   "id": "83007d7a",
   "metadata": {},
   "outputs": [
    {
     "data": {
      "text/plain": [
       "0    -3\n",
       "1   -96\n",
       "2   -46\n",
       "3   -16\n",
       "dtype: int64"
      ]
     },
     "execution_count": 179,
     "metadata": {},
     "output_type": "execute_result"
    }
   ],
   "source": [
    "t+4"
   ]
  },
  {
   "cell_type": "code",
   "execution_count": null,
   "id": "aab52001",
   "metadata": {},
   "outputs": [],
   "source": []
  }
 ],
 "metadata": {
  "kernelspec": {
   "display_name": "Python 3 (ipykernel)",
   "language": "python",
   "name": "python3"
  },
  "language_info": {
   "codemirror_mode": {
    "name": "ipython",
    "version": 3
   },
   "file_extension": ".py",
   "mimetype": "text/x-python",
   "name": "python",
   "nbconvert_exporter": "python",
   "pygments_lexer": "ipython3",
   "version": "3.9.12"
  }
 },
 "nbformat": 4,
 "nbformat_minor": 5
}
