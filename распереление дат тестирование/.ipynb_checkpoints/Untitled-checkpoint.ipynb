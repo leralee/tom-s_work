{
 "cells": [
  {
   "cell_type": "code",
   "execution_count": 1,
   "id": "bd2ed425",
   "metadata": {},
   "outputs": [],
   "source": [
    "import pandas as pd"
   ]
  },
  {
   "cell_type": "code",
   "execution_count": 320,
   "id": "ce087323",
   "metadata": {},
   "outputs": [],
   "source": [
    "orders = pd.read_excel('orders-test.xlsx')\n",
    "graphic = pd.read_excel('graphic-test.xlsx')"
   ]
  },
  {
   "cell_type": "code",
   "execution_count": 321,
   "id": "ed209d3a",
   "metadata": {},
   "outputs": [
    {
     "data": {
      "text/html": [
       "<div>\n",
       "<style scoped>\n",
       "    .dataframe tbody tr th:only-of-type {\n",
       "        vertical-align: middle;\n",
       "    }\n",
       "\n",
       "    .dataframe tbody tr th {\n",
       "        vertical-align: top;\n",
       "    }\n",
       "\n",
       "    .dataframe thead th {\n",
       "        text-align: right;\n",
       "    }\n",
       "</style>\n",
       "<table border=\"1\" class=\"dataframe\">\n",
       "  <thead>\n",
       "    <tr style=\"text-align: right;\">\n",
       "      <th></th>\n",
       "      <th>КССС мат</th>\n",
       "      <th>Пункт отгрузки</th>\n",
       "      <th>осталось произвести, тн</th>\n",
       "    </tr>\n",
       "  </thead>\n",
       "  <tbody>\n",
       "    <tr>\n",
       "      <th>0</th>\n",
       "      <td>207465</td>\n",
       "      <td>ПНОС</td>\n",
       "      <td>11</td>\n",
       "    </tr>\n",
       "    <tr>\n",
       "      <th>1</th>\n",
       "      <td>207464</td>\n",
       "      <td>ПНОС</td>\n",
       "      <td>20</td>\n",
       "    </tr>\n",
       "    <tr>\n",
       "      <th>2</th>\n",
       "      <td>207465</td>\n",
       "      <td>ПНОС</td>\n",
       "      <td>4</td>\n",
       "    </tr>\n",
       "    <tr>\n",
       "      <th>3</th>\n",
       "      <td>3149286</td>\n",
       "      <td>ВНП</td>\n",
       "      <td>1</td>\n",
       "    </tr>\n",
       "    <tr>\n",
       "      <th>4</th>\n",
       "      <td>196256</td>\n",
       "      <td>ВНП</td>\n",
       "      <td>2</td>\n",
       "    </tr>\n",
       "    <tr>\n",
       "      <th>5</th>\n",
       "      <td>207465</td>\n",
       "      <td>ВНП</td>\n",
       "      <td>0</td>\n",
       "    </tr>\n",
       "    <tr>\n",
       "      <th>6</th>\n",
       "      <td>3148630</td>\n",
       "      <td>Тюмень</td>\n",
       "      <td>6</td>\n",
       "    </tr>\n",
       "    <tr>\n",
       "      <th>7</th>\n",
       "      <td>3149286</td>\n",
       "      <td>Тюмень</td>\n",
       "      <td>8</td>\n",
       "    </tr>\n",
       "    <tr>\n",
       "      <th>8</th>\n",
       "      <td>196256</td>\n",
       "      <td>Тюмень</td>\n",
       "      <td>9</td>\n",
       "    </tr>\n",
       "  </tbody>\n",
       "</table>\n",
       "</div>"
      ],
      "text/plain": [
       "   КССС мат Пункт отгрузки  осталось произвести, тн\n",
       "0    207465           ПНОС                       11\n",
       "1    207464           ПНОС                       20\n",
       "2    207465           ПНОС                        4\n",
       "3   3149286            ВНП                        1\n",
       "4    196256            ВНП                        2\n",
       "5    207465            ВНП                        0\n",
       "6   3148630         Тюмень                        6\n",
       "7   3149286         Тюмень                        8\n",
       "8    196256         Тюмень                        9"
      ]
     },
     "execution_count": 321,
     "metadata": {},
     "output_type": "execute_result"
    }
   ],
   "source": [
    "orders"
   ]
  },
  {
   "cell_type": "code",
   "execution_count": 322,
   "id": "8676eee7",
   "metadata": {},
   "outputs": [
    {
     "data": {
      "text/html": [
       "<div>\n",
       "<style scoped>\n",
       "    .dataframe tbody tr th:only-of-type {\n",
       "        vertical-align: middle;\n",
       "    }\n",
       "\n",
       "    .dataframe tbody tr th {\n",
       "        vertical-align: top;\n",
       "    }\n",
       "\n",
       "    .dataframe thead th {\n",
       "        text-align: right;\n",
       "    }\n",
       "</style>\n",
       "<table border=\"1\" class=\"dataframe\">\n",
       "  <thead>\n",
       "    <tr style=\"text-align: right;\">\n",
       "      <th></th>\n",
       "      <th>Пункт отгрузки</th>\n",
       "      <th>Код КССС</th>\n",
       "      <th>Дата_производства</th>\n",
       "      <th>Объем_фасовки, т</th>\n",
       "    </tr>\n",
       "  </thead>\n",
       "  <tbody>\n",
       "    <tr>\n",
       "      <th>0</th>\n",
       "      <td>ПНОС</td>\n",
       "      <td>207465</td>\n",
       "      <td>2022-06-10</td>\n",
       "      <td>9.00</td>\n",
       "    </tr>\n",
       "    <tr>\n",
       "      <th>1</th>\n",
       "      <td>ПНОС</td>\n",
       "      <td>207465</td>\n",
       "      <td>2022-06-11</td>\n",
       "      <td>15.00</td>\n",
       "    </tr>\n",
       "    <tr>\n",
       "      <th>2</th>\n",
       "      <td>ПНОС</td>\n",
       "      <td>207464</td>\n",
       "      <td>2022-06-12</td>\n",
       "      <td>18.00</td>\n",
       "    </tr>\n",
       "    <tr>\n",
       "      <th>3</th>\n",
       "      <td>ВНП</td>\n",
       "      <td>3149286</td>\n",
       "      <td>2022-06-15</td>\n",
       "      <td>15.00</td>\n",
       "    </tr>\n",
       "    <tr>\n",
       "      <th>4</th>\n",
       "      <td>ВНП</td>\n",
       "      <td>196256</td>\n",
       "      <td>2022-06-15</td>\n",
       "      <td>1.33</td>\n",
       "    </tr>\n",
       "    <tr>\n",
       "      <th>5</th>\n",
       "      <td>ВНП</td>\n",
       "      <td>207465</td>\n",
       "      <td>2022-06-15</td>\n",
       "      <td>14.00</td>\n",
       "    </tr>\n",
       "    <tr>\n",
       "      <th>6</th>\n",
       "      <td>Тюмень</td>\n",
       "      <td>3148630</td>\n",
       "      <td>2022-06-11</td>\n",
       "      <td>5.00</td>\n",
       "    </tr>\n",
       "    <tr>\n",
       "      <th>7</th>\n",
       "      <td>Тюмень</td>\n",
       "      <td>3149286</td>\n",
       "      <td>2022-06-11</td>\n",
       "      <td>10.00</td>\n",
       "    </tr>\n",
       "    <tr>\n",
       "      <th>8</th>\n",
       "      <td>Тюмень</td>\n",
       "      <td>196256</td>\n",
       "      <td>2022-06-10</td>\n",
       "      <td>3.00</td>\n",
       "    </tr>\n",
       "  </tbody>\n",
       "</table>\n",
       "</div>"
      ],
      "text/plain": [
       "  Пункт отгрузки  Код КССС Дата_производства  Объем_фасовки, т\n",
       "0           ПНОС    207465        2022-06-10              9.00\n",
       "1           ПНОС    207465        2022-06-11             15.00\n",
       "2           ПНОС    207464        2022-06-12             18.00\n",
       "3            ВНП   3149286        2022-06-15             15.00\n",
       "4            ВНП    196256        2022-06-15              1.33\n",
       "5            ВНП    207465        2022-06-15             14.00\n",
       "6         Тюмень   3148630        2022-06-11              5.00\n",
       "7         Тюмень   3149286        2022-06-11             10.00\n",
       "8         Тюмень    196256        2022-06-10              3.00"
      ]
     },
     "execution_count": 322,
     "metadata": {},
     "output_type": "execute_result"
    }
   ],
   "source": [
    "graphic"
   ]
  },
  {
   "cell_type": "code",
   "execution_count": 243,
   "id": "9eaba522",
   "metadata": {},
   "outputs": [
    {
     "data": {
      "text/plain": [
       "datetime.date(2022, 6, 10)"
      ]
     },
     "execution_count": 243,
     "metadata": {},
     "output_type": "execute_result"
    }
   ],
   "source": [
    "graphic.loc[(graphic['Пункт отгрузки']=='ПНОС') & (graphic['Код КССС']==207465), 'Дата_производства'].dt.date.iloc[0]"
   ]
  },
  {
   "cell_type": "code",
   "execution_count": 82,
   "id": "3e4f8fcd",
   "metadata": {},
   "outputs": [
    {
     "data": {
      "text/html": [
       "<div>\n",
       "<style scoped>\n",
       "    .dataframe tbody tr th:only-of-type {\n",
       "        vertical-align: middle;\n",
       "    }\n",
       "\n",
       "    .dataframe tbody tr th {\n",
       "        vertical-align: top;\n",
       "    }\n",
       "\n",
       "    .dataframe thead th {\n",
       "        text-align: right;\n",
       "    }\n",
       "</style>\n",
       "<table border=\"1\" class=\"dataframe\">\n",
       "  <thead>\n",
       "    <tr style=\"text-align: right;\">\n",
       "      <th></th>\n",
       "      <th>Пункт отгрузки</th>\n",
       "      <th>Код КССС</th>\n",
       "      <th>Дата_производства</th>\n",
       "      <th>Объем_фасовки, т</th>\n",
       "    </tr>\n",
       "  </thead>\n",
       "  <tbody>\n",
       "    <tr>\n",
       "      <th>0</th>\n",
       "      <td>ПНОС</td>\n",
       "      <td>207465</td>\n",
       "      <td>2022-06-10</td>\n",
       "      <td>9.0</td>\n",
       "    </tr>\n",
       "    <tr>\n",
       "      <th>1</th>\n",
       "      <td>ПНОС</td>\n",
       "      <td>207465</td>\n",
       "      <td>2022-06-11</td>\n",
       "      <td>15.0</td>\n",
       "    </tr>\n",
       "  </tbody>\n",
       "</table>\n",
       "</div>"
      ],
      "text/plain": [
       "  Пункт отгрузки  Код КССС Дата_производства  Объем_фасовки, т\n",
       "0           ПНОС    207465        2022-06-10               9.0\n",
       "1           ПНОС    207465        2022-06-11              15.0"
      ]
     },
     "execution_count": 82,
     "metadata": {},
     "output_type": "execute_result"
    }
   ],
   "source": [
    "graphic[(graphic['Пункт отгрузки']=='ПНОС') & (graphic['Код КССС']==207465)]"
   ]
  },
  {
   "cell_type": "code",
   "execution_count": 18,
   "id": "0d3da7db",
   "metadata": {},
   "outputs": [],
   "source": [
    "len_of_dates = len(graphic.loc[(graphic['Пункт отгрузки']=='ПНОС') & (graphic['Код КССС']==207465)])"
   ]
  },
  {
   "cell_type": "code",
   "execution_count": 22,
   "id": "113db3d8",
   "metadata": {},
   "outputs": [
    {
     "data": {
      "text/plain": [
       "9.0"
      ]
     },
     "execution_count": 22,
     "metadata": {},
     "output_type": "execute_result"
    }
   ],
   "source": [
    "graphic.loc[(graphic['Пункт отгрузки']=='ПНОС') & (graphic['Код КССС']==207465), 'Объем_фасовки, т'][0]"
   ]
  },
  {
   "cell_type": "code",
   "execution_count": 23,
   "id": "d0725704",
   "metadata": {},
   "outputs": [
    {
     "data": {
      "text/plain": [
       "15.0"
      ]
     },
     "execution_count": 23,
     "metadata": {},
     "output_type": "execute_result"
    }
   ],
   "source": [
    "graphic.loc[(graphic['Пункт отгрузки']=='ПНОС') & (graphic['Код КССС']==207465), 'Объем_фасовки, т'][1]"
   ]
  },
  {
   "cell_type": "code",
   "execution_count": 230,
   "id": "b267255b",
   "metadata": {},
   "outputs": [
    {
     "data": {
      "text/plain": [
       "0    0.0\n",
       "Name: Объем_фасовки, т, dtype: float64"
      ]
     },
     "execution_count": 230,
     "metadata": {},
     "output_type": "execute_result"
    }
   ],
   "source": [
    "graphic.loc[(graphic['Пункт отгрузки']=='ПНОС') & (graphic['Код КССС']==207465) & (graphic['Дата_производства']=='2022-06-10'), 'Объем_фасовки, т']"
   ]
  },
  {
   "cell_type": "code",
   "execution_count": 268,
   "id": "9a952b32",
   "metadata": {},
   "outputs": [
    {
     "data": {
      "text/plain": [
       "0    20.0\n",
       "Name: Объем_фасовки, т, dtype: float64"
      ]
     },
     "execution_count": 268,
     "metadata": {},
     "output_type": "execute_result"
    }
   ],
   "source": [
    "graphic.loc[(graphic['Пункт отгрузки']=='ПНОС') & (graphic['Код КССС']==207465) & \n",
    "                        (graphic['Дата_производства']=='2022-06-10'), 'Объем_фасовки, т'] "
   ]
  },
  {
   "cell_type": "code",
   "execution_count": 297,
   "id": "579a5a91",
   "metadata": {},
   "outputs": [
    {
     "data": {
      "text/plain": [
       "Timestamp('2022-06-11 00:00:00')"
      ]
     },
     "execution_count": 297,
     "metadata": {},
     "output_type": "execute_result"
    }
   ],
   "source": [
    "graphic.loc[(graphic['Пункт отгрузки']=='ПНОС') & (graphic['Код КССС']==207465) & \n",
    "                                             (graphic['Дата_производства']==graphic.loc[(graphic['Пункт отгрузки']=='ПНОС') & (graphic['Код КССС']==207465), 'Дата_производства'].iloc[1]), 'Дата_производства'].iloc[0]"
   ]
  },
  {
   "cell_type": "code",
   "execution_count": 282,
   "id": "f6d26acc",
   "metadata": {},
   "outputs": [
    {
     "data": {
      "text/plain": [
       "Timestamp('2022-06-10 00:00:00')"
      ]
     },
     "execution_count": 282,
     "metadata": {},
     "output_type": "execute_result"
    }
   ],
   "source": [
    "graphic.loc[(graphic['Пункт отгрузки']=='ПНОС') & (graphic['Код КССС']==207465), 'Дата_производства'].iloc[0]"
   ]
  },
  {
   "cell_type": "code",
   "execution_count": null,
   "id": "426fd50f",
   "metadata": {},
   "outputs": [],
   "source": []
  },
  {
   "cell_type": "code",
   "execution_count": 323,
   "id": "b52fab52",
   "metadata": {},
   "outputs": [],
   "source": [
    "def data_shipment(city, code, required_to_make):\n",
    "    ## проверяем есть ли вообще в списке graphic\n",
    "    if graphic[(graphic['Пункт отгрузки']==city) & (graphic['Код КССС']==code)].empty:\n",
    "        return '-'\n",
    "    ## если в таблице orders не требуется, то мы ставим черточку\n",
    "    elif required_to_make == 0:\n",
    "        return '-'\n",
    "    ## иначе если есть и объема в графике достаточно, то мы    \n",
    "    elif graphic.loc[(graphic['Пункт отгрузки']==city) & (graphic['Код КССС']==code), 'Объем_фасовки, т'].iloc[0] >= required_to_make:   \n",
    "        print('Объем больше')\n",
    "        ## вычитаем из объема\n",
    "        ## добавить определенное дату, так как будет удалять все значения где код и пункт совпадаем\n",
    "        graphic.loc[(graphic['Пункт отгрузки']==city) & (graphic['Код КССС']==code), 'Объем_фасовки, т'] -= required_to_make\n",
    "        ## и возвращаем дату\n",
    "        data = graphic[(graphic['Пункт отгрузки']==city) & (graphic['Код КССС']==code)]['Дата_производства'].dt.date.iloc[0]\n",
    "        return data\n",
    "    ## иначе если недостаточно объема чем требуется ...\n",
    "    else:\n",
    "        print('объем меньше')\n",
    "        print(graphic.loc[(graphic['Пункт отгрузки']==city) & (graphic['Код КССС']==code)])\n",
    "        ## и если возвращает несколько дат, то\n",
    "        if len(graphic.loc[(graphic['Пункт отгрузки']==city) & (graphic['Код КССС']==code)]) > 1:\n",
    "            \n",
    "            ## вводим переменную длины, чтобы не выйти за пределы\n",
    "            len_of_dates = len(graphic.loc[(graphic['Пункт отгрузки']==city) & (graphic['Код КССС']==code)])\n",
    "            ## вводим счетчик для того чтобы присвоить правильную дату\n",
    "            i = 0\n",
    "            ## создаем накопительную переменную \n",
    "            storage_var = graphic.loc[(graphic['Пункт отгрузки']==city) & (graphic['Код КССС']==code), 'Объем_фасовки, т'].iloc[0]\n",
    "                        \n",
    "           \n",
    "            ## пока объем фасовки меньше, чем требуется\n",
    "            while storage_var<required_to_make and len_of_dates>1:\n",
    "                print('в цикле')\n",
    "                len_of_dates-=1\n",
    "                ## переходим к следующей\n",
    "                i+=1\n",
    "                ## и прибавляем к накопительной переменной\n",
    "                storage_var+= graphic.loc[(graphic['Пункт отгрузки']==city) & (graphic['Код КССС']==code), 'Объем_фасовки, т'].iloc[i]\n",
    "                 ## и обнуляем в графике объем фасовки\n",
    "                graphic.loc[(graphic['Пункт отгрузки']==city) & (graphic['Код КССС']==code), 'Объем_фасовки, т'].iloc[i]\n",
    "                print('storage fresh, ', storage_var)\n",
    "                print('required fresh, ' , required_to_make) \n",
    "                \n",
    "                ## возьмем дату следующего производства\n",
    "                data_of_making = graphic.loc[(graphic['Пункт отгрузки']==city) & (graphic['Код КССС']==code) & \n",
    "                                             (graphic['Дата_производства']==graphic.loc[(graphic['Пункт отгрузки']==city) & (graphic['Код КССС']==code), 'Дата_производства'].iloc[i]), 'Дата_производства'].iloc[0]\n",
    "                                              \n",
    "                                                                                           \n",
    "                print('обнуляем')\n",
    "                graphic.loc[(graphic['Пункт отгрузки']==city) & (graphic['Код КССС']==code), 'Объем_фасовки, т'] = 0\n",
    "                \n",
    "            print('data making', data_of_making)    \n",
    "            ## вычитаем\n",
    "            graphic.loc[(graphic['Пункт отгрузки']==city) & (graphic['Код КССС']==code) & \n",
    "                        (graphic['Дата_производства']==data_of_making), 'Объем_фасовки, т'] = storage_var-required_to_make\n",
    "            \n",
    "                \n",
    "            ## по окончанию цикла возвращает тот i который требуется    \n",
    "            data = graphic[(graphic['Пункт отгрузки']==city) & (graphic['Код КССС']==code)]['Дата_производства'].dt.date.iloc[i] \n",
    "            return data\n",
    "        ## иначе если возвращается только одна дата, то мы должны обнулить ее и присвоить дату\n",
    "        graphic.loc[(graphic['Пункт отгрузки']==city) & (graphic['Код КССС']==code), 'Объем_фасовки, т'] = 0\n",
    "        return graphic[(graphic['Пункт отгрузки']==city) & (graphic['Код КССС']==code)]['Дата_производства'].dt.date.iloc[0] \n",
    "        \n"
   ]
  },
  {
   "cell_type": "code",
   "execution_count": 324,
   "id": "a7fec522",
   "metadata": {
    "scrolled": true
   },
   "outputs": [
    {
     "name": "stdout",
     "output_type": "stream",
     "text": [
      "объем меньше\n",
      "  Пункт отгрузки  Код КССС Дата_производства  Объем_фасовки, т\n",
      "0           ПНОС    207465        2022-06-10               9.0\n",
      "1           ПНОС    207465        2022-06-11              15.0\n",
      "в цикле\n",
      "storage fresh,  24.0\n",
      "required fresh,  11\n",
      "обнуляем\n",
      "data making 2022-06-11 00:00:00\n",
      "объем меньше\n",
      "  Пункт отгрузки  Код КССС Дата_производства  Объем_фасовки, т\n",
      "2           ПНОС    207464        2022-06-12              18.0\n",
      "объем меньше\n",
      "  Пункт отгрузки  Код КССС Дата_производства  Объем_фасовки, т\n",
      "0           ПНОС    207465        2022-06-10               0.0\n",
      "1           ПНОС    207465        2022-06-11              13.0\n",
      "в цикле\n",
      "storage fresh,  13.0\n",
      "required fresh,  4\n",
      "обнуляем\n",
      "data making 2022-06-11 00:00:00\n",
      "Объем больше\n",
      "объем меньше\n",
      "  Пункт отгрузки  Код КССС Дата_производства  Объем_фасовки, т\n",
      "4            ВНП    196256        2022-06-15              1.33\n",
      "объем меньше\n",
      "  Пункт отгрузки  Код КССС Дата_производства  Объем_фасовки, т\n",
      "6         Тюмень   3148630        2022-06-11               5.0\n",
      "Объем больше\n",
      "объем меньше\n",
      "  Пункт отгрузки  Код КССС Дата_производства  Объем_фасовки, т\n",
      "8         Тюмень    196256        2022-06-10               3.0\n"
     ]
    }
   ],
   "source": [
    "orders['дата производства'] = orders.apply(lambda x: data_shipment(x['Пункт отгрузки'], x['КССС мат'], x['осталось произвести, тн']), axis=1)"
   ]
  },
  {
   "cell_type": "code",
   "execution_count": 325,
   "id": "d8c2a46a",
   "metadata": {},
   "outputs": [
    {
     "data": {
      "text/html": [
       "<div>\n",
       "<style scoped>\n",
       "    .dataframe tbody tr th:only-of-type {\n",
       "        vertical-align: middle;\n",
       "    }\n",
       "\n",
       "    .dataframe tbody tr th {\n",
       "        vertical-align: top;\n",
       "    }\n",
       "\n",
       "    .dataframe thead th {\n",
       "        text-align: right;\n",
       "    }\n",
       "</style>\n",
       "<table border=\"1\" class=\"dataframe\">\n",
       "  <thead>\n",
       "    <tr style=\"text-align: right;\">\n",
       "      <th></th>\n",
       "      <th>КССС мат</th>\n",
       "      <th>Пункт отгрузки</th>\n",
       "      <th>осталось произвести, тн</th>\n",
       "      <th>дата производства</th>\n",
       "    </tr>\n",
       "  </thead>\n",
       "  <tbody>\n",
       "    <tr>\n",
       "      <th>0</th>\n",
       "      <td>207465</td>\n",
       "      <td>ПНОС</td>\n",
       "      <td>11</td>\n",
       "      <td>2022-06-11</td>\n",
       "    </tr>\n",
       "    <tr>\n",
       "      <th>1</th>\n",
       "      <td>207464</td>\n",
       "      <td>ПНОС</td>\n",
       "      <td>20</td>\n",
       "      <td>2022-06-12</td>\n",
       "    </tr>\n",
       "    <tr>\n",
       "      <th>2</th>\n",
       "      <td>207465</td>\n",
       "      <td>ПНОС</td>\n",
       "      <td>4</td>\n",
       "      <td>2022-06-11</td>\n",
       "    </tr>\n",
       "    <tr>\n",
       "      <th>3</th>\n",
       "      <td>3149286</td>\n",
       "      <td>ВНП</td>\n",
       "      <td>1</td>\n",
       "      <td>2022-06-15</td>\n",
       "    </tr>\n",
       "    <tr>\n",
       "      <th>4</th>\n",
       "      <td>196256</td>\n",
       "      <td>ВНП</td>\n",
       "      <td>2</td>\n",
       "      <td>2022-06-15</td>\n",
       "    </tr>\n",
       "    <tr>\n",
       "      <th>5</th>\n",
       "      <td>207465</td>\n",
       "      <td>ВНП</td>\n",
       "      <td>0</td>\n",
       "      <td>-</td>\n",
       "    </tr>\n",
       "    <tr>\n",
       "      <th>6</th>\n",
       "      <td>3148630</td>\n",
       "      <td>Тюмень</td>\n",
       "      <td>6</td>\n",
       "      <td>2022-06-11</td>\n",
       "    </tr>\n",
       "    <tr>\n",
       "      <th>7</th>\n",
       "      <td>3149286</td>\n",
       "      <td>Тюмень</td>\n",
       "      <td>8</td>\n",
       "      <td>2022-06-11</td>\n",
       "    </tr>\n",
       "    <tr>\n",
       "      <th>8</th>\n",
       "      <td>196256</td>\n",
       "      <td>Тюмень</td>\n",
       "      <td>9</td>\n",
       "      <td>2022-06-10</td>\n",
       "    </tr>\n",
       "  </tbody>\n",
       "</table>\n",
       "</div>"
      ],
      "text/plain": [
       "   КССС мат Пункт отгрузки  осталось произвести, тн дата производства\n",
       "0    207465           ПНОС                       11        2022-06-11\n",
       "1    207464           ПНОС                       20        2022-06-12\n",
       "2    207465           ПНОС                        4        2022-06-11\n",
       "3   3149286            ВНП                        1        2022-06-15\n",
       "4    196256            ВНП                        2        2022-06-15\n",
       "5    207465            ВНП                        0                 -\n",
       "6   3148630         Тюмень                        6        2022-06-11\n",
       "7   3149286         Тюмень                        8        2022-06-11\n",
       "8    196256         Тюмень                        9        2022-06-10"
      ]
     },
     "execution_count": 325,
     "metadata": {},
     "output_type": "execute_result"
    }
   ],
   "source": [
    "orders"
   ]
  },
  {
   "cell_type": "code",
   "execution_count": 326,
   "id": "08e462ff",
   "metadata": {},
   "outputs": [
    {
     "data": {
      "text/html": [
       "<div>\n",
       "<style scoped>\n",
       "    .dataframe tbody tr th:only-of-type {\n",
       "        vertical-align: middle;\n",
       "    }\n",
       "\n",
       "    .dataframe tbody tr th {\n",
       "        vertical-align: top;\n",
       "    }\n",
       "\n",
       "    .dataframe thead th {\n",
       "        text-align: right;\n",
       "    }\n",
       "</style>\n",
       "<table border=\"1\" class=\"dataframe\">\n",
       "  <thead>\n",
       "    <tr style=\"text-align: right;\">\n",
       "      <th></th>\n",
       "      <th>Пункт отгрузки</th>\n",
       "      <th>Код КССС</th>\n",
       "      <th>Дата_производства</th>\n",
       "      <th>Объем_фасовки, т</th>\n",
       "    </tr>\n",
       "  </thead>\n",
       "  <tbody>\n",
       "    <tr>\n",
       "      <th>0</th>\n",
       "      <td>ПНОС</td>\n",
       "      <td>207465</td>\n",
       "      <td>2022-06-10</td>\n",
       "      <td>0.0</td>\n",
       "    </tr>\n",
       "    <tr>\n",
       "      <th>1</th>\n",
       "      <td>ПНОС</td>\n",
       "      <td>207465</td>\n",
       "      <td>2022-06-11</td>\n",
       "      <td>9.0</td>\n",
       "    </tr>\n",
       "    <tr>\n",
       "      <th>2</th>\n",
       "      <td>ПНОС</td>\n",
       "      <td>207464</td>\n",
       "      <td>2022-06-12</td>\n",
       "      <td>0.0</td>\n",
       "    </tr>\n",
       "    <tr>\n",
       "      <th>3</th>\n",
       "      <td>ВНП</td>\n",
       "      <td>3149286</td>\n",
       "      <td>2022-06-15</td>\n",
       "      <td>14.0</td>\n",
       "    </tr>\n",
       "    <tr>\n",
       "      <th>4</th>\n",
       "      <td>ВНП</td>\n",
       "      <td>196256</td>\n",
       "      <td>2022-06-15</td>\n",
       "      <td>0.0</td>\n",
       "    </tr>\n",
       "    <tr>\n",
       "      <th>5</th>\n",
       "      <td>ВНП</td>\n",
       "      <td>207465</td>\n",
       "      <td>2022-06-15</td>\n",
       "      <td>14.0</td>\n",
       "    </tr>\n",
       "    <tr>\n",
       "      <th>6</th>\n",
       "      <td>Тюмень</td>\n",
       "      <td>3148630</td>\n",
       "      <td>2022-06-11</td>\n",
       "      <td>0.0</td>\n",
       "    </tr>\n",
       "    <tr>\n",
       "      <th>7</th>\n",
       "      <td>Тюмень</td>\n",
       "      <td>3149286</td>\n",
       "      <td>2022-06-11</td>\n",
       "      <td>2.0</td>\n",
       "    </tr>\n",
       "    <tr>\n",
       "      <th>8</th>\n",
       "      <td>Тюмень</td>\n",
       "      <td>196256</td>\n",
       "      <td>2022-06-10</td>\n",
       "      <td>0.0</td>\n",
       "    </tr>\n",
       "  </tbody>\n",
       "</table>\n",
       "</div>"
      ],
      "text/plain": [
       "  Пункт отгрузки  Код КССС Дата_производства  Объем_фасовки, т\n",
       "0           ПНОС    207465        2022-06-10               0.0\n",
       "1           ПНОС    207465        2022-06-11               9.0\n",
       "2           ПНОС    207464        2022-06-12               0.0\n",
       "3            ВНП   3149286        2022-06-15              14.0\n",
       "4            ВНП    196256        2022-06-15               0.0\n",
       "5            ВНП    207465        2022-06-15              14.0\n",
       "6         Тюмень   3148630        2022-06-11               0.0\n",
       "7         Тюмень   3149286        2022-06-11               2.0\n",
       "8         Тюмень    196256        2022-06-10               0.0"
      ]
     },
     "execution_count": 326,
     "metadata": {},
     "output_type": "execute_result"
    }
   ],
   "source": [
    "graphic"
   ]
  },
  {
   "cell_type": "code",
   "execution_count": 65,
   "id": "42576af7",
   "metadata": {},
   "outputs": [
    {
     "data": {
      "text/plain": [
       "0     9.0\n",
       "1    15.0\n",
       "Name: Объем_фасовки, т, dtype: float64"
      ]
     },
     "execution_count": 65,
     "metadata": {},
     "output_type": "execute_result"
    }
   ],
   "source": [
    "graphic.loc[(graphic['Пункт отгрузки']=='ПНОС') & (graphic['Код КССС']==207465), 'Объем_фасовки, т']"
   ]
  },
  {
   "cell_type": "code",
   "execution_count": 66,
   "id": "dda86e0a",
   "metadata": {},
   "outputs": [
    {
     "data": {
      "text/plain": [
       "3    15.0\n",
       "Name: Объем_фасовки, т, dtype: float64"
      ]
     },
     "execution_count": 66,
     "metadata": {},
     "output_type": "execute_result"
    }
   ],
   "source": [
    "graphic.loc[(graphic['Пункт отгрузки']=='ВНП') & (graphic['Код КССС']==3149286), 'Объем_фасовки, т'].iloc[0]"
   ]
  },
  {
   "cell_type": "code",
   "execution_count": 37,
   "id": "dca85560",
   "metadata": {},
   "outputs": [
    {
     "data": {
      "text/plain": [
       "True"
      ]
     },
     "execution_count": 37,
     "metadata": {},
     "output_type": "execute_result"
    }
   ],
   "source": [
    "graphic[(graphic['Пункт отгрузки']==\"ПНОС\") & (graphic['Код КССС']==20746)].empty"
   ]
  },
  {
   "cell_type": "code",
   "execution_count": null,
   "id": "edfdf92f",
   "metadata": {},
   "outputs": [],
   "source": []
  }
 ],
 "metadata": {
  "kernelspec": {
   "display_name": "Python 3 (ipykernel)",
   "language": "python",
   "name": "python3"
  },
  "language_info": {
   "codemirror_mode": {
    "name": "ipython",
    "version": 3
   },
   "file_extension": ".py",
   "mimetype": "text/x-python",
   "name": "python",
   "nbconvert_exporter": "python",
   "pygments_lexer": "ipython3",
   "version": "3.9.7"
  }
 },
 "nbformat": 4,
 "nbformat_minor": 5
}
